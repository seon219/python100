{
  "nbformat": 4,
  "nbformat_minor": 0,
  "metadata": {
    "colab": {
      "name": "11~20.ipynb",
      "provenance": [],
      "authorship_tag": "ABX9TyMgCrM5x96Yz7Nf9VMacpxQ",
      "include_colab_link": true
    },
    "kernelspec": {
      "name": "python3",
      "display_name": "Python 3"
    },
    "language_info": {
      "name": "python"
    }
  },
  "cells": [
    {
      "cell_type": "markdown",
      "metadata": {
        "id": "view-in-github",
        "colab_type": "text"
      },
      "source": [
        "<a href=\"https://colab.research.google.com/github/seon219/python100/blob/main/11~20.ipynb\" target=\"_parent\"><img src=\"https://colab.research.google.com/assets/colab-badge.svg\" alt=\"Open In Colab\"/></a>"
      ]
    },
    {
      "cell_type": "markdown",
      "metadata": {
        "id": "7nC88Njjq5Eb"
      },
      "source": [
        "# 11. for를 이용한 기본 활용\n",
        "* 1부터 100까지 모두 더하는 Code를 <pass> 부분에 완성하세요. for를 사용해야 합니다."
      ]
    },
    {
      "cell_type": "markdown",
      "metadata": {
        "id": "LJiEuEhOrM0W"
      },
      "source": [
        "s = 0\n",
        "\n",
        "< pass >\n",
        "\n",
        "print(s)"
      ]
    },
    {
      "cell_type": "code",
      "metadata": {
        "colab": {
          "base_uri": "https://localhost:8080/"
        },
        "id": "T1gvORBeq0WY",
        "outputId": "1e15a460-d99a-4b4a-b55a-8dc55745ef99"
      },
      "source": [
        "s = 0\n",
        "for i in range(1, 101): # 1부터 100까지 증가. 1생략 가능\n",
        "  s += i\n",
        "print(s)"
      ],
      "execution_count": 1,
      "outputs": [
        {
          "output_type": "stream",
          "name": "stdout",
          "text": [
            "5050\n"
          ]
        }
      ]
    },
    {
      "cell_type": "markdown",
      "metadata": {
        "id": "7iAz0fW1u9iB"
      },
      "source": [
        "# 12. 게임 캐릭터 클래스 만들기\n",
        "* 다음 소스코드에서 클래스를 작성하여 게임 캐릭터의 능력치와 '파이어볼'이 출력되게 만드시오"
      ]
    },
    {
      "cell_type": "markdown",
      "metadata": {
        "id": "-f0_1Bb9vFPk"
      },
      "source": [
        "<여기에 class를 작성하세요.>\n",
        "\n",
        "x = Wizard(health = 545, mana = 210, armor = 10)\n",
        "\n",
        "print(x.health, x.mana, x.armor)\n",
        "\n",
        "x.attack()"
      ]
    },
    {
      "cell_type": "code",
      "metadata": {
        "colab": {
          "base_uri": "https://localhost:8080/"
        },
        "id": "FRmOW42irfdV",
        "outputId": "c34466c3-2b60-4547-d50a-e720509e5cf7"
      },
      "source": [
        "class Wizard:\n",
        "    def __init__(self, health, mana, armor):\n",
        "        self.health = health\n",
        "        self.mana = mana\n",
        "        self.armor = armor\n",
        " \n",
        "    def attack(self):\n",
        "        print('파이어볼')\n",
        "\n",
        "x = Wizard(health=545, mana=210, armor=10)\n",
        "print(x.health, x.mana, x.armor)\n",
        "x.attack()"
      ],
      "execution_count": 2,
      "outputs": [
        {
          "output_type": "stream",
          "name": "stdout",
          "text": [
            "545 210 10\n",
            "파이어볼\n"
          ]
        }
      ]
    },
    {
      "cell_type": "markdown",
      "metadata": {
        "id": "i9quirTAP4g8"
      },
      "source": [
        "* 클래스를 구성을 사용하는 이유\n",
        " - 글러벌 변수를 없애고, 모든 변수를 어떠한 스코프에 소속\n",
        " - 몇 번이고 재사용 가능\n",
        " - 코드의 수정을 최소화\n",
        " - 함수 실행 중, 함수 자신을 다시 호출하는 처리 등이 가능\n",
        "\n",
        "* _ _ _init_ _ _\n",
        " - 컨스트럭터라고 불리는 초기화를 위한 함수(메소드)\n",
        " - 인스턴스화를 실시할 때 반드시 처음에 호출되는 특수한 함수\n",
        " - 오브젝트 생성(인스턴스 생성)과 관련하여 데이터의 초기를 실시하는 함수\n",
        " - 반드시 첫 번째 인수로 self를 지정\n",
        " - 클래스를 생성핼 때 지정한 인수는 초기화 매소드의 2번쨰부터 작성"
      ]
    },
    {
      "cell_type": "markdown",
      "metadata": {
        "id": "suKrk4Ks0W-a"
      },
      "source": [
        "# 13. 몇 번째 행성인가요?"
      ]
    },
    {
      "cell_type": "markdown",
      "metadata": {
        "id": "RcFZ4NuR0c3O"
      },
      "source": [
        "우리 태양계를 이루고 있는 행성은 수성, 금성, 지구, 화성, 목성, 토성, 천왕성, 해왕성으로 총 8개 입니다. 저희는 우리 태양계의 n번째 행성이 무엇인지 알고 싶습니다.\n",
        "\n",
        "입력으로 행성의 순서를 나타내는 숫자 n이 입력됩니다. 예를들어 수성은 첫번째 행성입니다.\n",
        "\n",
        "출력으로 그 순서에 해당하는 행성의 이름을 출력해 주세요."
      ]
    },
    {
      "cell_type": "code",
      "metadata": {
        "id": "cf5k3_ko0iv1",
        "colab": {
          "base_uri": "https://localhost:8080/"
        },
        "outputId": "b38adf2d-f546-493f-c318-16ded7f290be"
      },
      "source": [
        "planets = ['수성', '금성', '지구', '화성', '목성', '토성', '천왕성', ' 해왕성']\n",
        "\n",
        "n = int(input(\"숫자를 입력하세요 :\")) -1 #리스트는 0부터 시작이므로 -1해줌\n",
        "print(planets[n])"
      ],
      "execution_count": 3,
      "outputs": [
        {
          "output_type": "stream",
          "name": "stdout",
          "text": [
            "숫자를 입력하세요 :2\n",
            "금성\n"
          ]
        }
      ]
    },
    {
      "cell_type": "markdown",
      "metadata": {
        "id": "2rZH78VEuFmk"
      },
      "source": [
        "# 14. 3의 배수인가요?"
      ]
    },
    {
      "cell_type": "markdown",
      "metadata": {
        "id": "aOgCmkv-uXEY"
      },
      "source": [
        "영희는 친구와 게임을 하고 있습니다. 서로 돌아가며 랜덤으로 숫자를 하나 말하고 그게 3의 배수이면 박수를 치고 아니면 그 숫자를 그대로 말하는 게임입니다.\n",
        "\n",
        "입력으로 랜덤한 숫자 n이 주어집니다.\n",
        "\n",
        "만약 그 수가 3의 배수라면 '짝'이라는 글자를, 3의 배수가 아니라면 n을 그대로 출력해 주세요."
      ]
    },
    {
      "cell_type": "code",
      "metadata": {
        "colab": {
          "base_uri": "https://localhost:8080/"
        },
        "id": "tigpvHwIt_Iz",
        "outputId": "b45360b2-e1ef-458c-f210-7ff78aee3328"
      },
      "source": [
        "n = int(input(\"숫자를 입력하세요\"))\n",
        "\n",
        "if n % 3 == 0:\n",
        "  print(\"짝\")\n",
        "else :\n",
        "  print(n)"
      ],
      "execution_count": 4,
      "outputs": [
        {
          "output_type": "stream",
          "name": "stdout",
          "text": [
            "숫자를 입력하세요3\n",
            "짝\n"
          ]
        }
      ]
    },
    {
      "cell_type": "markdown",
      "metadata": {
        "id": "aqYDjekAuyz_"
      },
      "source": [
        "# 15. 자기소개"
      ]
    },
    {
      "cell_type": "markdown",
      "metadata": {
        "id": "vy8YuacVu16K"
      },
      "source": [
        "신학기가 시작되고, 아이들이 돌아가면서 자기소개를 하기로 했습니다.\n",
        "만약 입력으로 `김다정`이라는 이름이 주어지면 \"안녕하세요. 저는 김다정입니다.\" 라고 출력"
      ]
    },
    {
      "cell_type": "code",
      "metadata": {
        "colab": {
          "base_uri": "https://localhost:8080/"
        },
        "id": "vEHpQJ8Cus6d",
        "outputId": "d65b2f2a-ebdd-4ca8-a7f6-d1042af029c2"
      },
      "source": [
        "n = input(\"이름을 입력하세요:\")\n",
        "\n",
        "print(\"안녕하세요. 저는 {0}입니다.\".format(n))"
      ],
      "execution_count": 5,
      "outputs": [
        {
          "output_type": "stream",
          "name": "stdout",
          "text": [
            "이름을 입력하세요:김다정\n",
            "안녕하세요. 저는 김다정입니다.\n"
          ]
        }
      ]
    },
    {
      "cell_type": "markdown",
      "metadata": {
        "id": "EmFIlGBRofA3"
      },
      "source": [
        "* format() \n",
        " - 문자열을 출력할 때 서식 지정자를 사용하여 출력하고자 하는 경우에 사용\n",
        " - 인자값을 중괄호가 지정된  위치에 순차적으로 값을 대입"
      ]
    },
    {
      "cell_type": "markdown",
      "metadata": {
        "id": "Ny0apnEutRHb"
      },
      "source": [
        "# 16. 로꾸거"
      ]
    },
    {
      "cell_type": "markdown",
      "metadata": {
        "id": "Y-lutlaNtTPp"
      },
      "source": [
        "문장이 입력되면 거꾸로 출력하는 프로그램 만들기\n",
        "\n",
        "입력 : 거꾸로\n",
        "\n",
        "출력 : 로꾸거"
      ]
    },
    {
      "cell_type": "code",
      "metadata": {
        "colab": {
          "base_uri": "https://localhost:8080/"
        },
        "id": "kh_DxtwwtSWG",
        "outputId": "b5c35a07-7171-42ff-b4e6-e0f7dbdc1409"
      },
      "source": [
        "# [::-1]\n",
        "n = input(\"글자를 입력하세요:\")\n",
        "\n",
        "print(n[::-1])"
      ],
      "execution_count": 6,
      "outputs": [
        {
          "output_type": "stream",
          "name": "stdout",
          "text": [
            "글자를 입력하세요:거꾸로\n",
            "로꾸거\n"
          ]
        }
      ]
    },
    {
      "cell_type": "markdown",
      "metadata": {
        "id": "4-R75ZPHvnm-"
      },
      "source": [
        "* [3:0:-1]이라면 3번부터 1번까지 역순으로 출력\n",
        "* [3::-1]이라면 3번부터 0번까지 역순으로 출력\n",
        "* 마지막 숫자이면 생략 가능해서 [::-1]이면 전체 문자열을 역순으로 출력"
      ]
    },
    {
      "cell_type": "code",
      "metadata": {
        "colab": {
          "base_uri": "https://localhost:8080/"
        },
        "id": "XekiQRpQviLQ",
        "outputId": "7bc49e7b-b0fd-424d-81a7-c8a2af7f827d"
      },
      "source": [
        "# for문 - 문자열\n",
        "n = input(\"글자를 입력하세요:\")\n",
        "\n",
        "n_reverse = ''  # 기존 문자열을 역순으로 담아둘 빈 문자열 선언\n",
        "for i in n:\n",
        "  n_reverse = i + n_reverse\n",
        "\n",
        "print(n_reverse)"
      ],
      "execution_count": 7,
      "outputs": [
        {
          "output_type": "stream",
          "name": "stdout",
          "text": [
            "글자를 입력하세요:거꾸로\n",
            "로꾸거\n"
          ]
        }
      ]
    },
    {
      "cell_type": "code",
      "metadata": {
        "colab": {
          "base_uri": "https://localhost:8080/"
        },
        "id": "tYCU_baPwrFC",
        "outputId": "22867b88-6147-4a6d-a29a-8bb6456ee847"
      },
      "source": [
        "#for문 - 리스트\n",
        "n = input(\"글자를 입력하세요:\")\n",
        "\n",
        "n_list = list(n) #reverse함수를 사용하기 위해 문자열을 list로 치환\n",
        "n_list.reverse() #reverse 함수를 사용해 문자열 리스트를 거꾸로 뒤집음\n",
        "\n",
        "print(''.join(n_list)) # 거꾸로 뒤집어진 리스트를 연결해서 출력"
      ],
      "execution_count": 8,
      "outputs": [
        {
          "output_type": "stream",
          "name": "stdout",
          "text": [
            "글자를 입력하세요:거꾸로\n",
            "로꾸거\n"
          ]
        }
      ]
    },
    {
      "cell_type": "code",
      "metadata": {
        "colab": {
          "base_uri": "https://localhost:8080/"
        },
        "id": "cl4cT3kS0bdH",
        "outputId": "d8f063d4-ace6-4949-b9a1-76ad2cac5ae6"
      },
      "source": [
        "# reversed\n",
        "n = input(\"글자를 입력하세요:\")\n",
        "\n",
        "print(''.join(reversed(n))) #reverse와 달리 문자열에도 바로 적용 가능"
      ],
      "execution_count": 9,
      "outputs": [
        {
          "output_type": "stream",
          "name": "stdout",
          "text": [
            "글자를 입력하세요:거꾸로\n",
            "로꾸거\n"
          ]
        }
      ]
    },
    {
      "cell_type": "markdown",
      "metadata": {
        "id": "MqfBJx5e2kDL"
      },
      "source": [
        "# 17. 놀이기구 키 제한"
      ]
    },
    {
      "cell_type": "markdown",
      "metadata": {
        "id": "EdEnO7w72n5v"
      },
      "source": [
        "유주는 놀이공원 아르바이트 중입니다. 그런데 놀이기구마다 키 제한이 있습니다.\n",
        "유주가 담당하는 놀이기구는 키가 150 이상만 탈 수 있습니다.\n",
        "\n",
        "입력으로 키가 주어지면\n",
        "키가 150이 이상이면 **YES**를 틀리면 **NO**를 출력하는 프로그램을 작성하세요."
      ]
    },
    {
      "cell_type": "code",
      "metadata": {
        "colab": {
          "base_uri": "https://localhost:8080/"
        },
        "id": "k7tD3y-s0eWf",
        "outputId": "36b0d074-d497-436b-8038-a5066427942c"
      },
      "source": [
        "n = int(input(\"키를 입력하세요:\"))\n",
        "if n >= 150:\n",
        "  print(\"YES\")\n",
        "else :\n",
        "  print(\"NO\")"
      ],
      "execution_count": 10,
      "outputs": [
        {
          "output_type": "stream",
          "name": "stdout",
          "text": [
            "키를 입력하세요:150\n",
            "YES\n"
          ]
        }
      ]
    },
    {
      "cell_type": "markdown",
      "metadata": {
        "id": "geD_1ivB3LFK"
      },
      "source": [
        "# 18. 평균점수"
      ]
    },
    {
      "cell_type": "markdown",
      "metadata": {
        "id": "3aamyV_Z3N8V"
      },
      "source": [
        "영하네 반은 국어, 수학, 영어 시험을 보았습니다. 영하는 친구들의 평균 점수를 구해주기로 했습니다.\n",
        "\n",
        "공백으로 구분하여 세 과목의 점수가 주어지면\n",
        "전체 평균 점수를 구하는 프로그램을 작성하세요. 단, 소숫점 자리는 모두 버립니다."
      ]
    },
    {
      "cell_type": "code",
      "metadata": {
        "colab": {
          "base_uri": "https://localhost:8080/"
        },
        "id": "LDMdVcUz27Uj",
        "outputId": "424bedcf-ac93-4f3a-f8c1-f034475a4de4"
      },
      "source": [
        "n = list(map(int, input(\"띄어쓰기로 세 과목의 점수를 입력하세요:\").split()))\n",
        "print(int(sum(n)/3))"
      ],
      "execution_count": 11,
      "outputs": [
        {
          "output_type": "stream",
          "name": "stdout",
          "text": [
            "띄어쓰기로 세 과목의 점수를 입력하세요:70 80 50\n",
            "66\n"
          ]
        }
      ]
    },
    {
      "cell_type": "markdown",
      "metadata": {
        "id": "t053gLct4cBt"
      },
      "source": [
        "* map\n",
        " - 리스트 요소를 지정된 함수로 처리해주는 함수\n",
        " -  리스트의 요소를 int로 바꿔주기 위해 map(int) 사용\n",
        " - input().split()의 결과가 문자열 리스트여서 map사용 가능"
      ]
    },
    {
      "cell_type": "markdown",
      "metadata": {
        "id": "5mlFnMuc5qz6"
      },
      "source": [
        "# 19. 제곱을 구하자"
      ]
    },
    {
      "cell_type": "markdown",
      "metadata": {
        "id": "k_SVNm0s5szL"
      },
      "source": [
        "공백으로 구분하여 두 숫자 a와 b가 주어지면, a의 b승을 구하는 프로그램을 작성하세요."
      ]
    },
    {
      "cell_type": "code",
      "metadata": {
        "colab": {
          "base_uri": "https://localhost:8080/"
        },
        "id": "PcXRhtJ15u37",
        "outputId": "b85c460f-54ad-432f-e246-97476f9216e6"
      },
      "source": [
        "n = list(map(int, input(\"띄어쓰기로 a와 b를 입력하세요:\").split()))\n",
        "print(n[0]**n[1])"
      ],
      "execution_count": 12,
      "outputs": [
        {
          "output_type": "stream",
          "name": "stdout",
          "text": [
            "띄어쓰기로 a와 b를 입력하세요:2 3\n",
            "8\n"
          ]
        }
      ]
    },
    {
      "cell_type": "markdown",
      "metadata": {
        "id": "r5B4Qxea6OyR"
      },
      "source": [
        "* 파이썬 연산자\n",
        " - 덧셈 : +\n",
        " - 뺄셈 : -\n",
        " - 곱셈 : *\n",
        " - 거듭 제곱 : **\n",
        " - 나눗셈 : /\n",
        " - 나눗셈(소수점 제외, 정수부분만) : //\n",
        " - 나눗셈(나머지) : %"
      ]
    },
    {
      "cell_type": "markdown",
      "metadata": {
        "id": "RfSCMNDv65-_"
      },
      "source": [
        "# 20. 몫과 나머지"
      ]
    },
    {
      "cell_type": "markdown",
      "metadata": {
        "id": "zjEPqBHz3kZg"
      },
      "source": [
        "공백으로 구분하여 두 숫자가 주어집니다.\n",
        "첫번째 숫자로 두번째 숫자를 나누었을 때 그 몫과 나머지를 공백으로 구분하여 출력하세요.\n"
      ]
    },
    {
      "cell_type": "code",
      "metadata": {
        "colab": {
          "base_uri": "https://localhost:8080/"
        },
        "id": "9jjlHrfP6ljp",
        "outputId": "903038a1-ad65-4936-afde-8a6312c4c12a"
      },
      "source": [
        "n = list(map(int, input(\"띄어쓰기로 숫자 2개를 입력하세요:\").split()))\n",
        "a = n[0]//n[1]\n",
        "b = n[0]%n[1]\n",
        "print(a, b)"
      ],
      "execution_count": null,
      "outputs": [
        {
          "output_type": "stream",
          "name": "stdout",
          "text": [
            "띄어쓰기로 숫자 2개를 입력하세요:10 2\n",
            "5 0\n"
          ]
        }
      ]
    }
  ]
}