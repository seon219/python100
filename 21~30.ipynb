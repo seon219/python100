{
  "nbformat": 4,
  "nbformat_minor": 0,
  "metadata": {
    "colab": {
      "name": "21~30.ipynb",
      "provenance": [],
      "authorship_tag": "ABX9TyNYPVYDT6AlmazS/Mrdq7JS",
      "include_colab_link": true
    },
    "kernelspec": {
      "name": "python3",
      "display_name": "Python 3"
    },
    "language_info": {
      "name": "python"
    }
  },
  "cells": [
    {
      "cell_type": "markdown",
      "metadata": {
        "id": "view-in-github",
        "colab_type": "text"
      },
      "source": [
        "<a href=\"https://colab.research.google.com/github/seon219/python100/blob/main/21~30.ipynb\" target=\"_parent\"><img src=\"https://colab.research.google.com/assets/colab-badge.svg\" alt=\"Open In Colab\"/></a>"
      ]
    },
    {
      "cell_type": "markdown",
      "metadata": {
        "id": "qfseifSgX7j1"
      },
      "source": [
        "# 21. set은 어떻게 만드나요?"
      ]
    },
    {
      "cell_type": "markdown",
      "metadata": {
        "id": "J8RzYwzxX_Jz"
      },
      "source": [
        "다음 중 set을 만드는 방법이 아닌 것?\n",
        "\n",
        "1)  x = {1, 2, 3, 5, 6, 7}\n",
        "\n",
        "2)  x = {}\n",
        "\n",
        "3)  x = set('python')\n",
        "\n",
        "4)  x = set(range(5))\n",
        "\n",
        "5)  x = set()"
      ]
    },
    {
      "cell_type": "markdown",
      "metadata": {
        "id": "xVmtYweTukyh"
      },
      "source": [
        "2번"
      ]
    },
    {
      "cell_type": "markdown",
      "metadata": {
        "id": "TDSEPQUFYXG6"
      },
      "source": [
        "* set - 집합\n",
        " - 중복을 허용하지 않음\n",
        " - 순서가 없음\n",
        " - 저장된 값을 인덱싱으로 접근하려면 리스트나 튜플로 변환후 사용"
      ]
    },
    {
      "cell_type": "markdown",
      "metadata": {
        "id": "ZTC4omKguqX-"
      },
      "source": [
        "# 22. 배수인지 확인하기"
      ]
    },
    {
      "cell_type": "markdown",
      "metadata": {
        "id": "wsvVOZcSuvje"
      },
      "source": [
        "다음 중 변수 i가 6의 배수인지 확인하는 방법으로 올바른 것은?"
      ]
    },
    {
      "cell_type": "markdown",
      "metadata": {
        "id": "cB76mlUzuzKU"
      },
      "source": [
        "1) i / 6 == 0\n",
        "\n",
        "2) i % 6 == 0\n",
        "\n",
        "3) i & 6 == 0\n",
        "\n",
        "4) i | 6 == 0\n",
        "\n",
        "5) i // 6 ==0"
      ]
    },
    {
      "cell_type": "markdown",
      "metadata": {
        "id": "5mYC0rwivM98"
      },
      "source": [
        "2번. %은 나머지를 나타내기 때문에 나머지가 0이면 6의 배수이다."
      ]
    },
    {
      "cell_type": "markdown",
      "metadata": {
        "id": "5Y9d5eFyvXno"
      },
      "source": [
        "* & : 비교 연산자(and)\n",
        " - bitwise 연산자\n",
        " - 둘 다 참(1)일때만 true\n",
        "* | : 비교 연산자(or)\n",
        " - bitwise 연산자\n",
        " - 하나만 참(1)이어도 true"
      ]
    },
    {
      "cell_type": "markdown",
      "metadata": {
        "id": "WaNlR1TNwwPA"
      },
      "source": [
        "# 23. OX문제"
      ]
    },
    {
      "cell_type": "markdown",
      "metadata": {
        "id": "krXA62O0wzW3"
      },
      "source": [
        "print(10/2)의 출력 결과는 **5**이다.\n",
        "\n",
        "X"
      ]
    },
    {
      "cell_type": "code",
      "metadata": {
        "colab": {
          "base_uri": "https://localhost:8080/"
        },
        "id": "Ntm2xk-VuxoH",
        "outputId": "0c2f5409-eded-47b4-a8f7-3f4c2d6bbdbe"
      },
      "source": [
        "print(10/2)"
      ],
      "execution_count": null,
      "outputs": [
        {
          "output_type": "stream",
          "name": "stdout",
          "text": [
            "5.0\n"
          ]
        }
      ]
    },
    {
      "cell_type": "markdown",
      "metadata": {
        "id": "wroaGIkvxHYX"
      },
      "source": [
        "5가 나오기 위해서는 10//2 가 되어야 함"
      ]
    },
    {
      "cell_type": "markdown",
      "metadata": {
        "id": "xf0CdZiKxHOq"
      },
      "source": [
        "# 24. 대문자로 바꿔주세요!"
      ]
    },
    {
      "cell_type": "markdown",
      "metadata": {
        "id": "S03z7IUDxVWY"
      },
      "source": [
        "민지는 국제 포럼에서 아르바이트를 하게 되었습니다. 민지는 각 국에서 온 참가자들의 명단을 엑셀로 정리하고 있는데 참가자들 이름이 어떤 이는 전부 소문자, 어떤 이는 전부 대문자로 써져 있는 등 형식이 제각각이었습니다.\n",
        "\n",
        "민지를 위해 이름이 입력되면 전부 대문자로 출력되는 프로그램을 만들어주세요."
      ]
    },
    {
      "cell_type": "code",
      "metadata": {
        "colab": {
          "base_uri": "https://localhost:8080/"
        },
        "id": "I9ESNhDexTgt",
        "outputId": "f365db0f-4bd8-42bc-b616-b11d75d817d9"
      },
      "source": [
        "name = input(\"이름을 입력하세요:\")\n",
        "\n",
        "print(name.upper())"
      ],
      "execution_count": null,
      "outputs": [
        {
          "output_type": "stream",
          "name": "stdout",
          "text": [
            "이름을 입력하세요:mary\n",
            "MARY\n"
          ]
        }
      ]
    },
    {
      "cell_type": "markdown",
      "metadata": {
        "id": "kDiUeySDx-wY"
      },
      "source": [
        "* upper\n",
        " - 모든 문자열을 대문자로 바꿔줌\n",
        "* lower\n",
        " - 모든 문자열을 소문자로 바꿔줌"
      ]
    },
    {
      "cell_type": "markdown",
      "metadata": {
        "id": "Lclyj4BRyL45"
      },
      "source": [
        "# 25. 원의 넓이를 구하세요"
      ]
    },
    {
      "cell_type": "markdown",
      "metadata": {
        "id": "kx_65OpYyXqC"
      },
      "source": [
        "원의 넓이는 반지름의 길이 x 반지름의 길이 x 3.14로 구할 수 있습니다.\n",
        "함수를 사용하여 원의 넓이를 구하는 코드를 작성해봅시다.\n",
        "\n",
        "입력을 반지름의 길이로 정수 n이 주어지면 원의 넓이를 반환하는 함수를 만들어 주세요.\n",
        "(입력을 해야하기 때문에 input을 반드시 사용해야합니다)"
      ]
    },
    {
      "cell_type": "code",
      "metadata": {
        "colab": {
          "base_uri": "https://localhost:8080/"
        },
        "id": "jRlIJqaKyY3a",
        "outputId": "8e7a0efe-182a-4f15-fcd9-edc24bcafce0"
      },
      "source": [
        "n = int(input(\"반지름의 길이를 입력하세요:\"))\n",
        "\n",
        "print(n*n*3.14)"
      ],
      "execution_count": null,
      "outputs": [
        {
          "output_type": "stream",
          "name": "stdout",
          "text": [
            "반지름의 길이를 입력하세요:5\n",
            "78.5\n"
          ]
        }
      ]
    },
    {
      "cell_type": "code",
      "metadata": {
        "colab": {
          "base_uri": "https://localhost:8080/"
        },
        "id": "kv-PrTY5yt1z",
        "outputId": "0e9fa289-ac06-409f-ecb2-d6b8191e9f14"
      },
      "source": [
        "def solution(n):\n",
        "\treturn n * n * 3.14\n",
        "\n",
        "print(solution(int(input())))"
      ],
      "execution_count": null,
      "outputs": [
        {
          "output_type": "stream",
          "name": "stdout",
          "text": [
            "5\n",
            "78.5\n"
          ]
        }
      ]
    },
    {
      "cell_type": "markdown",
      "metadata": {
        "id": "SWvdN9-By4F5"
      },
      "source": [
        "# 26. 행성 문제2"
      ]
    },
    {
      "cell_type": "markdown",
      "metadata": {
        "id": "hzWfP1-my8z7"
      },
      "source": [
        "우리 태양계를 이루는 행성은 수성, 금성, 지구, 화성, 목성, 토성, 천왕성, 해왕성이 있습니다.\n",
        "이 행성들의 영어 이름은 Mercury, Venus, Earth, Mars, Jupiter, Saturn, Uranus, Neptune입니다.\n",
        "\n",
        "행성의 한글 이름을 입력하면 영어 이름을 반환하는 프로그램을 만들어 주세요."
      ]
    },
    {
      "cell_type": "code",
      "metadata": {
        "colab": {
          "base_uri": "https://localhost:8080/"
        },
        "id": "_ZBMYb9ay91K",
        "outputId": "bb334865-4660-4457-8c6b-22d5e0aef3c7"
      },
      "source": [
        "planets = {\n",
        "\t'수성' : 'Mercury',\n",
        "\t'금성' : 'Venus',\n",
        "\t'지구' : 'Earth',\n",
        "\t'화성' : 'Mars',\n",
        "\t'목성' : 'Jupiter',\n",
        "\t'토성' : 'Saturn',\n",
        "\t'천왕성' : 'Uranus',\n",
        "\t'해왕성' : 'Neptune',\n",
        "}\n",
        "\n",
        "name = input(\"행성의 이름을 입력하세요:\")\n",
        "print(planets[name])"
      ],
      "execution_count": null,
      "outputs": [
        {
          "output_type": "stream",
          "name": "stdout",
          "text": [
            "행성의 이름을 입력하세요:지구\n",
            "Earth\n"
          ]
        }
      ]
    },
    {
      "cell_type": "markdown",
      "metadata": {
        "id": "NGiEZLPwzzsZ"
      },
      "source": [
        "# 27. 딕셔너리 만들기"
      ]
    },
    {
      "cell_type": "markdown",
      "metadata": {
        "id": "NqJ5SNB6z2a0"
      },
      "source": [
        "첫 줄에는 학생의 이름이 공백으로 구분되어 입력되고, 두번째 줄에는 그 학생의 수학 점수가 공백으로 구분되어 주어집니다.\n",
        "\n",
        "두 개를 합쳐 학생의 이름이 key이고 value가 수학 점수인 딕셔너리를 출력해주세요."
      ]
    },
    {
      "cell_type": "code",
      "metadata": {
        "colab": {
          "base_uri": "https://localhost:8080/"
        },
        "id": "wBNDYcKgz5-G",
        "outputId": "3f44f3ac-24a7-4c7d-c930-6df54143a1db"
      },
      "source": [
        "keys = list(map(str, input(\"띄어쓰기로 이름을 입력하세요:\").split()))\n",
        "values = list(map(int, input(\"띄어쓰기로 숫자를 입력하세요:\").split()))\n",
        "\n",
        "result = dict(zip(keys, values))\n",
        "print(result)"
      ],
      "execution_count": null,
      "outputs": [
        {
          "output_type": "stream",
          "name": "stdout",
          "text": [
            "띄어쓰기로 이름을 입력하세요:mina bill\n",
            "띄어쓰기로 숫자를 입력하세요:70 80\n",
            "{'mina': 70, 'bill': 80}\n"
          ]
        }
      ]
    },
    {
      "cell_type": "markdown",
      "metadata": {
        "id": "O-MUDB2g3WHC"
      },
      "source": [
        "# 28. 2-gram"
      ]
    },
    {
      "cell_type": "markdown",
      "metadata": {
        "id": "-p7cxQ42SGoe"
      },
      "source": [
        "2-gram이란 문자열에서 2개의 연속된 요소를 출력하는 방법입니다. \n",
        "예를 들어 'Python'을 2-gram으로 반복해 본다면 다음과 같은 결과가 나옵니다.\n",
        "\n",
        "Py\n",
        "\n",
        "yt\n",
        "\n",
        "th\n",
        "\n",
        "ho\n",
        "\n",
        "on\n",
        "\n",
        "입력으로 문자열이 주어지면 2-gram으로 출력하는 프로그램을 작성해 주세요."
      ]
    },
    {
      "cell_type": "code",
      "metadata": {
        "colab": {
          "base_uri": "https://localhost:8080/"
        },
        "id": "KE4hM2aaSH9S",
        "outputId": "7aad4e3e-e0f7-473a-da71-97c981f6d6ce"
      },
      "source": [
        "data = input()\n",
        "\n",
        "for i in range(len(data) - 1):\n",
        "\tprint(data[i], data[i+1], sep = '')"
      ],
      "execution_count": null,
      "outputs": [
        {
          "output_type": "stream",
          "name": "stdout",
          "text": [
            "python\n",
            "py\n",
            "yt\n",
            "th\n",
            "ho\n",
            "on\n"
          ]
        }
      ]
    },
    {
      "cell_type": "markdown",
      "metadata": {
        "id": "F9Yy8Iks8-Ud"
      },
      "source": [
        "# 29. 대문자만 지나가세요"
      ]
    },
    {
      "cell_type": "markdown",
      "metadata": {
        "id": "BzNW_T5G9BWl"
      },
      "source": [
        "진구는 영어 학원 아르바이트를 하고 있습니다. 반 아이들은 알파벳을 공부하는 학생들인데 오늘은 대문자 쓰기 시험을 봤습니다.\n",
        "\n",
        "알파벳 하나만을 입력하고 그 알파벳이 대문자이면 YES를 아니면 NO를 출력하는 프로그램을 만들어 주세요."
      ]
    },
    {
      "cell_type": "code",
      "metadata": {
        "colab": {
          "base_uri": "https://localhost:8080/"
        },
        "id": "gwauM3Wv9E2e",
        "outputId": "5005132d-9543-429a-d822-8548fc9d48ff"
      },
      "source": [
        "n = input(\"알파벳을 입력하세요:\")\n",
        "\n",
        "if n.isupper():\n",
        "\tprint(\"YES\")\n",
        "else:\n",
        "\tprint(\"NO\")"
      ],
      "execution_count": null,
      "outputs": [
        {
          "output_type": "stream",
          "name": "stdout",
          "text": [
            "알파벳을 입력하세요:A\n",
            "YES\n"
          ]
        }
      ]
    },
    {
      "cell_type": "markdown",
      "metadata": {
        "id": "nW5xYdwG9J1h"
      },
      "source": [
        "* isupper()\n",
        " - 모든 문자열의 대문자 여부를 감지 \n",
        " - boolean 형태(true, flase)로 구분\n",
        "* islower()\n",
        " - 모든 문자열의 소문자 여부를 감지\n",
        " - boolean 형태(true, flase)로 구분\n",
        "\n"
      ]
    },
    {
      "cell_type": "markdown",
      "metadata": {
        "id": "8L9KM6cI-NLI"
      },
      "source": [
        "# 30. 문자열 속 문자 찾기"
      ]
    },
    {
      "cell_type": "markdown",
      "metadata": {
        "id": "vr8hGoUF-QIs"
      },
      "source": [
        "문자 pineapple에는 apple이라는 문자가 숨어 있습니다. 원범이는 이렇듯 문자열 속에 숨어있는 문자를 찾아보려고 합니다.\n",
        "\n",
        "입력으로 첫 줄에 문자열이 주어지고 둘째 줄에 찾을 문자가 주어지면 \n",
        "그 문자가 시작하는 index를 반환하는 프로그램을 만들어 주세요"
      ]
    },
    {
      "cell_type": "code",
      "metadata": {
        "colab": {
          "base_uri": "https://localhost:8080/"
        },
        "id": "_zksrsup-EgA",
        "outputId": "f682c141-4a32-40d5-90f1-778f70439059"
      },
      "source": [
        "data = input(\"문자열 입력하기:\")\n",
        "word = input(\"찾을 문자 입력하기:\")\n",
        "\n",
        "print(data.find(word))"
      ],
      "execution_count": null,
      "outputs": [
        {
          "output_type": "stream",
          "name": "stdout",
          "text": [
            "문자열 입력하기:pineapple is yummy\n",
            "찾을 문자 입력하기:apple\n",
            "4\n"
          ]
        }
      ]
    },
    {
      "cell_type": "markdown",
      "metadata": {
        "id": "zOLJO91x05MJ"
      },
      "source": [
        "* find()\n",
        " - 변수.find() 형태로 ()안에 문자를 넣어 사용\n",
        " - 변수에 위치한 문자열 중 괄호 안에 넣은 특정 문자가 처음 위치한 자리의 값을 찾음\n",
        " - 문자열의 위치는 숫자로 출력되고 0부터 시작\n",
        " - find(찾을 문자열, 시작점, 종료점) 형태로 사용 가능\n",
        " - 찾는 문자가 없을 경우에 -1 출력\n",
        " - 문자열을 찾을 수 있는 변수는 문자열만 사용이 가능\n",
        " - 리스트, 튜프르 딕셔너리 자료형에서는 find함수를 사용하면 AttributeError 발생\n",
        "\n",
        "* index()\n",
        " - 변수.index() 형태로 ()안에 문자를 넣어 사용\n",
        " - 변수에 위치한 문자열 중 괄호 안에 넣은 특정 문자가 처음 위치한 자리의 값을 찾음\n",
        " - 문자열의 위치는 숫자로 출력되고 0부터 시작\n",
        " - 찾는 문자가 없는 경우에 ValueError 발생\n",
        " - 문자열, 리스트, 튜플 자료형에서 사용 가능\n",
        " - 딕셔너리 자료형에서는 사용할 수 없어 AtrributeError 발생\n",
        " "
      ]
    }
  ]
}