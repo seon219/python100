{
  "nbformat": 4,
  "nbformat_minor": 0,
  "metadata": {
    "colab": {
      "name": "51~60.ipynb",
      "provenance": [],
      "authorship_tag": "ABX9TyPlh3EsidJjsAjXf/3aMZCs",
      "include_colab_link": true
    },
    "kernelspec": {
      "name": "python3",
      "display_name": "Python 3"
    },
    "language_info": {
      "name": "python"
    }
  },
  "cells": [
    {
      "cell_type": "markdown",
      "metadata": {
        "id": "view-in-github",
        "colab_type": "text"
      },
      "source": [
        "<a href=\"https://colab.research.google.com/github/seon219/python100/blob/main/51~60.ipynb\" target=\"_parent\"><img src=\"https://colab.research.google.com/assets/colab-badge.svg\" alt=\"Open In Colab\"/></a>"
      ]
    },
    {
      "cell_type": "markdown",
      "metadata": {
        "id": "vqRv9Haa7I5c"
      },
      "source": [
        "# 51. merge sort를 만들어보자"
      ]
    },
    {
      "cell_type": "markdown",
      "metadata": {
        "id": "Ib1YatLy7MnT"
      },
      "source": [
        "병합정렬은 대표적인 정렬 알고리즘 중 하나로 다음과 같이 동작합니다\n",
        "\n",
        "1. 리스트의 길이가 0 또는 1이면 이미 정렬된 것으로 본다. 그렇지 않은 경우에는\n",
        "\n",
        "2. 정렬되지 않은 리스트를 절반으로 잘라 비슷한 크기의 두 부분 리스트로 나눈다.\n",
        "\n",
        "3. 각 부분 리스트를 재귀적으로 합병 정렬을 이용해 정렬한다.\n",
        "\n",
        "4. 두 부분 리스트를 다시 하나의 정렬된 리스트로 합병한다.\n",
        "\n",
        "다음 코드의 빈칸을 채워 병합 정렬 완성하기\n",
        "```\n",
        "#병합 정렬\n",
        "def 병합정렬(입력리스트):\n",
        "    입력리스트길이 = len(입력리스트)\n",
        "    if 입력리스트길이 <= 1:\n",
        "        return 입력리스트\n",
        "    중간값 = 입력리스트길이 // 2\n",
        "    그룹_하나 = 병합정렬(입력리스트[:중간값])\n",
        "    그룹_둘 = 병합정렬(입력리스트[중간값:])\n",
        "    결과값 = []\n",
        "\n",
        "    while (#빈칸을 채워주세요) and (#빈칸을 채워주세요) :\n",
        "        if (#빈칸을 채워주세요):\n",
        "            결과값.append(그룹_하나.pop(0))\n",
        "        else:\n",
        "            결과값.append(그룹_둘.pop(0))\n",
        "\n",
        "    while 그룹_하나:\n",
        "        결과값.append(그룹_하나.pop(0))\n",
        "    while 그룹_둘:\n",
        "        결과값.append(그룹_둘.pop(0))\n",
        "    return 결과값\n",
        "\n",
        "주어진리스트 = [180, 145, 165, 45, 170, 175, 173, 171]\n",
        "#빈칸을 채워주세요\n",
        "\n",
        "print(병합정렬(주어진리스트))\n",
        "```"
      ]
    },
    {
      "cell_type": "code",
      "metadata": {
        "id": "tHP5HmYp7z_j",
        "colab": {
          "base_uri": "https://localhost:8080/"
        },
        "outputId": "b242825f-07fd-4c01-ac71-672036164c8d"
      },
      "source": [
        "def 병합정렬(입력리스트):\n",
        "    입력리스트길이 = len(입력리스트)\n",
        "    if 입력리스트길이 <= 1:\n",
        "        return 입력리스트\n",
        "    중간값 = 입력리스트길이 // 2\n",
        "    그룹_하나 = 병합정렬(입력리스트[:중간값])\n",
        "    그룹_둘 = 병합정렬(입력리스트[중간값:])\n",
        "    결과값 = []\n",
        "\n",
        "    while 그룹_하나 and 그룹_둘:\n",
        "        if 그룹_하나[0] < 그룹_둘[0]:\n",
        "            결과값.append(그룹_하나.pop(0))\n",
        "        else:\n",
        "            결과값.append(그룹_둘.pop(0))\n",
        "\n",
        "    while 그룹_하나:\n",
        "        결과값.append(그룹_하나.pop(0))\n",
        "    while 그룹_둘:\n",
        "        결과값.append(그룹_둘.pop(0))\n",
        "    return 결과값\n",
        "\n",
        "주어진리스트 = input().split(' ')\n",
        "주어진리스트 = [int(i) for i in 주어진리스트]\n",
        "\n",
        "print(병합정렬(주어진리스트))"
      ],
      "execution_count": 1,
      "outputs": [
        {
          "output_type": "stream",
          "name": "stdout",
          "text": [
            "3 5 2 7 4\n",
            "[2, 3, 4, 5, 7]\n"
          ]
        }
      ]
    },
    {
      "cell_type": "markdown",
      "metadata": {
        "id": "Cp6l-wnD8Fi7"
      },
      "source": [
        "* 병합정렬\n",
        " - 분할정복 기법과 재귀 알고리즘을 이용한 정렬 알고리즘\n",
        " - 주어진 배열을 원소가 하나 밖에 남지 않을 때까지 둘로 쪼갠 후에 다시 크기 순으로 재배열하면서 원래 크기의 배열로 합침\n",
        "\n",
        "* 특징\n",
        " - 크게 분할단계와 병합단계로 나눌 수 있으며, 중간 인덱스를 찾아야 하는 분할비용보다 모든 값을 비교해야하는 병합 비용이 큼\n",
        " - 전반적인 반복의 수는 절반으로 줄어들기 때문에 O(logN)시간이 필요\n",
        " - 병합할 때에는 모든 값을 비교해야 하므로 O(N) 시간이 소모\n",
        " - 총 시간 복잡도는 O(NlogN)\n",
        " - 두개의 배열을 병합할 때 병합 결과를 담아 놓을 배열이 추가로 필요. 공간 복잡도은 O(N)\n",
        " - 다른 정렬 알고리즘과 달리 인접한 값들 간의 상호자리교대가 일어나지 않음"
      ]
    },
    {
      "cell_type": "markdown",
      "metadata": {
        "id": "eBnoKi_p-IrT"
      },
      "source": [
        "# 52. quick sort"
      ]
    },
    {
      "cell_type": "markdown",
      "metadata": {
        "id": "X40V_-dl-L3R"
      },
      "source": [
        "빈칸을 채워 퀵 정렬 완성하기\n",
        "```\n",
        "def 퀵정렬(입력리스트):\n",
        "    입력리스트의길이 = len(입력리스트)\n",
        "    if 입력리스트의길이 <= 1:\n",
        "        return 입력리스트\n",
        "    기준값 = 입력리스트.pop(입력리스트의길이//2)\n",
        "    그룹_하나 = []\n",
        "    그룹_둘 = []\n",
        "    \n",
        "    for i in range(입력리스트의길이-1):\n",
        "        if #내용을 채워주세요:\n",
        "            그룹_하나.append(입력리스트[i])\n",
        "        else:\n",
        "            그룹_둘.append(입력리스트[i])\n",
        "    return #내용을 채워주세요\n",
        "\n",
        "주어진리스트 = input().split(' ')\n",
        "#내용을 채워주세요.\n",
        "\n",
        "print(퀵정렬(주어진리스트))\n",
        "```"
      ]
    },
    {
      "cell_type": "code",
      "metadata": {
        "colab": {
          "base_uri": "https://localhost:8080/"
        },
        "id": "bqmP3bgN7la6",
        "outputId": "d58d0d55-90ad-49aa-9ffe-e1061b9fdd02"
      },
      "source": [
        "def 퀵정렬(입력리스트):\n",
        "    입력리스트의길이 = len(입력리스트)\n",
        "    if 입력리스트의길이 <= 1:\n",
        "        return 입력리스트\n",
        "    기준값 = 입력리스트.pop(입력리스트의길이//2)\n",
        "    그룹_하나 = []\n",
        "    그룹_둘 = []\n",
        "    \n",
        "    for i in range(입력리스트의길이-1):\n",
        "        if 입력리스트[i] < 기준값:\n",
        "            그룹_하나.append(입력리스트[i])\n",
        "        else:\n",
        "            그룹_둘.append(입력리스트[i])\n",
        "    return 퀵정렬(그룹_하나) + [기준값] + 퀵정렬(그룹_둘)\n",
        "\n",
        "주어진리스트 = input().split(' ')\n",
        "주어진리스트 = [int(i) for i in 주어진리스트]\n",
        "\n",
        "print(퀵정렬(주어진리스트))"
      ],
      "execution_count": 2,
      "outputs": [
        {
          "output_type": "stream",
          "name": "stdout",
          "text": [
            "2 8 9 7 5 4\n",
            "[2, 4, 5, 7, 8, 9]\n"
          ]
        }
      ]
    },
    {
      "cell_type": "markdown",
      "metadata": {
        "id": "3iHbb34QDSKq"
      },
      "source": [
        "* 퀵정렬\n",
        " - 분할 정복 기법과 재귀 알고리즘을 이용한 정렬 알고리즘\n",
        " - 피봇(pivot)이라고 불리는 임의의 기준값을 사용\n",
        " - 값 중 하나를 피봇값으로 설정하고 피봇값을 기준으로 값이 작은 그룹과 큰 그룹으로 나눔\n",
        " - 작은 그룹과 큰 그룹에서 각각 피봇값을 설정하여 정렬하는 것을 반복\n",
        "\n",
        "* 특징 \n",
        " - 파이썬의 list.sort() 함수와 자바의 Arrays.sort() 처럼 프로그래밍 언어 차원에서 기본적으로 지원되는 재아 정렬 함수는 대부분 퀵 정렬을 기본으로 함\n",
        " - 일반적으로 원소의 개수가 적어질수록 나쁜 중간값이 선택될 확률이 높아짐\n",
        " - 따라서 원소의 개수에 따라 퀵 정렬에 다른 정렬을 혼합해서 쓰는 경우가 많음\n",
        " - 병합 정렬과 퀵 정렬은 분할 정복과 재귀 알고리즘을 사용한다는 측면에서는 유사해보이지만, 내부적으로 정렬을 하는 방식에는 큰 차이가 있음\n",
        " - 병합 정렬은 항상 정 중앙을 기준으로 단순 분할 수 병합 시점에서 값의 비교 연산이 발생\n",
        " - 퀵 정렬은 분할 시점부터 비교 연산이 일어나기 때문에 그 후 병합에 들어가는 비용이 매우 적거나 구현 방법에 따라 아예 병합을 하지 않을 수도 있음\n",
        "\n",
        "* 복잡도\n",
        " - 퀵 정렬의 성능은 피봇값을 어떻게 선택하느냐에 따라 크게 달라질 수 있음\n",
        " - 이상적인 경우는 피봇값을 기준으로 작은 값과 큰 값이 동일한 개수를 갖게 분할되어 병합정렬과 마찬가지로 O(NlogN)의 시간 복잡도를 가지는 것\n",
        " - 피봇값을 기준으로 분할했을 때 한쪽으로 값이 치위게 되면 성능이 저하되고 최악의 경우 한쪽으로만 모든 값이 몰려서 O(n**2)의 시간복잡도를 보임\n",
        " - 상용코드에서는 중앙값에 가까운 피봇값을 선택할 수 있는 섬세한 전략이 요구\n",
        " - 배열의 값 중 크기가 중간인 값을 사용하는 방법이 많이 사용됨\n",
        " - 공간복잡도는 구현 방법에 따라 달라질 수 있는데, 입력 배열이 차지하는 메모리만을 사용하는 in-place sorting 방식으로 구현을 사용할 경우, O(1)의 공간 복잡도를 가진 코드의 구현이 가능"
      ]
    },
    {
      "cell_type": "markdown",
      "metadata": {
        "id": "6V3YrEXtG5WL"
      },
      "source": [
        "# 53. 괄호 문자열"
      ]
    },
    {
      "cell_type": "markdown",
      "metadata": {
        "id": "Bj3TqFnnG8JY"
      },
      "source": [
        "괄호 문자열이란 괄호 기호인 '{', '}', '[', ']', '(', ')' 와 같은 것을 말한다. 그 중 괄호의 모양이 바르게 구성 된 문자열을 바른 문자열, 그렇지 않은 문자열을 바르지 않은 문자열이라 부르도록 하자. \n",
        "\n",
        "(())와 같은 문자열은 바른 문자열이지만 ()()) 와 같은 문자열은 바르지 않은 문자열이다.(해당 문제에서는 소괄호만 판별하지만, 실력이 되시는 분들은 중괄호와 대괄호까지 판별해보세요.)\n",
        "\n",
        "입력으로 주어진 괄호 문자열이 바른 문자열인지 바르지 않은 문자열인지 \"YES\"와 \"NO\"로 구분된 문자열을 출력해보자."
      ]
    },
    {
      "cell_type": "code",
      "metadata": {
        "colab": {
          "base_uri": "https://localhost:8080/"
        },
        "id": "ESwdwh5lDHU5",
        "outputId": "fd39468d-7f60-4e40-c19a-1db580e074e5"
      },
      "source": [
        "def math(e):\n",
        "    if e.count('(') != e.count(')'):\n",
        "        return False\n",
        "    괄호 = []\n",
        "    for i in e:\n",
        "        if i == '(':\n",
        "            괄호.append('(')\n",
        "        if i == ')':\n",
        "            if len(괄호) == 0:\n",
        "                return False\n",
        "            괄호.pop()\n",
        "    return True\n",
        "\n",
        "n = input()\n",
        "if math(n) == True:\n",
        "\tprint(\"YES\")\n",
        "else:\n",
        "\tprint(\"NO\")"
      ],
      "execution_count": 1,
      "outputs": [
        {
          "output_type": "stream",
          "name": "stdout",
          "text": [
            "()\n",
            "YES\n"
          ]
        }
      ]
    },
    {
      "cell_type": "markdown",
      "metadata": {
        "id": "3QPnriQsbEbw"
      },
      "source": [
        "# 54. 연속되는 수"
      ]
    },
    {
      "cell_type": "markdown",
      "metadata": {
        "id": "c-RAErczbKEz"
      },
      "source": [
        "은주는 놀이공원 아르바이트를 하고 있습니다. 은주가 일하는 놀이공원에서는 현재 놀이공원 곳곳에 숨겨진 숫자 스탬프를 모아 오면 선물을 주는 이벤트를 하고 있습니다. 숫자 스탬프는 매일 그 수와 스탬프에 적힌 숫자가 바뀌지만 그 숫자는 항상 연속됩니다. \n",
        "그런데 요즘 다른 날에 찍은 스탬프를 가지고 와 선물을 달라고 하는 손님이 늘었습니다.\n",
        "\n",
        "스탬프에 적힌 숫자가 공백으로 구분되어 주어지면 이 숫자가 연속수인지 아닌지 \"YES\"와 \"NO\"로 판별하는 프로그램을 작성하세요.\n"
      ]
    },
    {
      "cell_type": "code",
      "metadata": {
        "colab": {
          "base_uri": "https://localhost:8080/"
        },
        "id": "XPCl7YC-JyxP",
        "outputId": "233728cb-8941-43c5-faf9-55a141cdeddc"
      },
      "source": [
        "n = input(\"띄어쓰기를 사용해서 숫자를 입력하세요: \").split(' ')\n",
        "n = [int(i) for i in n]\n",
        "\n",
        "def sol(l):\n",
        "    l = sorted(l)\n",
        "    for i in range(len(l) - 1):\n",
        "        if l[i]+1 != l[i+1]:\n",
        "            return 'NO'\n",
        "    return 'YES'\n",
        "\n",
        "print(sol(n))"
      ],
      "execution_count": 2,
      "outputs": [
        {
          "output_type": "stream",
          "name": "stdout",
          "text": [
            "띄어쓰기를 사용해서 숫자를 입력하세요: 1 2 3 4 5\n",
            "YES\n"
          ]
        }
      ]
    },
    {
      "cell_type": "markdown",
      "metadata": {
        "id": "54MH3nyAbqXg"
      },
      "source": [
        "# 55. 하노이의 탑"
      ]
    },
    {
      "cell_type": "markdown",
      "metadata": {
        "id": "bF6FzPMObwk8"
      },
      "source": [
        "하노이의 탑은 프랑스 수학자 에두아르드가 처음으로 발표한 게임입니다. 하노이의 탑은 A, B, C 3개의 기둥과 기둥에 꽂을 수 있는 N개의 원판으로 이루어져 있습니다. 이 게임에서 다음의 규칙을 만족해야 합니다.\n",
        "\n",
        "> 1. 처음에 모든 원판은 A기둥에 꽂혀 있다.\n",
        "2. 모든 원판의 지름은 다르다.\n",
        "3. 이 원반은 세 개의 기둥 중 하나에 반드시 꽂혀야 한다.\n",
        "4. 작은 원반 위에 큰 원반을 놓을 수 없다.\n",
        "5. 한 번에 하나의 원판(가장 위에 있는 원판) 만을 옮길 수 있다.\n",
        "> \n",
        "\n",
        "이 규칙을 만족하며 A기둥에 있는 원반 N개를 모두 C 원반으로 옮기고 싶습니다.\n",
        "모든 원반을 옮기기 위해 실행되어야 할 최소 원반 이동 횟수를 계산하는 프로그램을 완성해주세요.\n",
        "\n",
        "```\n",
        "원판의이동경로 = []\n",
        "def 하노이(원반의수, 시작기둥, 목표기둥, 보조기둥):\n",
        "    #원판이 한개일 때에는 옮기면 됩니다.\n",
        "    if 원반의수 == 1:\n",
        "        원판의이동경로.append([시작기둥, 목표기둥]) \n",
        "        return None\n",
        "    #원반의 n-1개를 경유기둥으로 옮기고\n",
        "    하노이(#내용을 채워주세요.)\n",
        "    #가장 큰 원반은 목표기둥으로\n",
        "    원판의이동경로.append(#내용을 채워주세요.) \n",
        "    #경유기둥과 시작기둥을 바꿉니다!\n",
        "    하노이(#내용을 채워주세요.)\n",
        "\n",
        "user_input = int(input())\n",
        "하노이(user_input,'A','C','B')\n",
        "\n",
        "print(len(원판의이동경로))\n",
        "```"
      ]
    },
    {
      "cell_type": "code",
      "metadata": {
        "colab": {
          "base_uri": "https://localhost:8080/"
        },
        "id": "JNWA6L-dbmNT",
        "outputId": "ddc39942-c9b6-4680-95c3-09e81dcd9521"
      },
      "source": [
        "원판의이동경로 = []\n",
        "def 하노이(원반의수, 시작기둥, 목표기둥, 보조기둥):\n",
        "    #원판이 한개일 때에는 옮기면 됩니다.\n",
        "    if 원반의수 == 1:\n",
        "        원판의이동경로.append([시작기둥, 목표기둥]) \n",
        "        return None\n",
        "\n",
        "    #원반의 n-1개를 경유기둥으로 옮기고\n",
        "    하노이(원반의수-1, 시작기둥, 보조기둥, 목표기둥)\n",
        "    #가장 큰 원반은 목표기둥으로\n",
        "    원판의이동경로.append([시작기둥, 목표기둥]) \n",
        "    #경유기둥과 시작기둥을 바꿉니다!\n",
        "    하노이(원반의수-1, 보조기둥, 목표기둥, 시작기둥)\n",
        "\n",
        "하노이(3,'A','C','B')\n",
        "print(원판의이동경로)\n",
        "print(len(원판의이동경로))"
      ],
      "execution_count": 3,
      "outputs": [
        {
          "output_type": "stream",
          "name": "stdout",
          "text": [
            "[['A', 'C'], ['A', 'B'], ['C', 'B'], ['A', 'C'], ['B', 'A'], ['B', 'C'], ['A', 'C']]\n",
            "7\n"
          ]
        }
      ]
    },
    {
      "cell_type": "markdown",
      "metadata": {
        "id": "JneuXkZPcXuo"
      },
      "source": [
        "# 56. 리스트의 함수 활용"
      ]
    },
    {
      "cell_type": "markdown",
      "metadata": {
        "id": "9HuwYNymcbNq"
      },
      "source": [
        "다음의 딕셔너리가 주어졌을 때 한국의 면적과 가장 비슷한 국가와 그 차이를 출력하세요.\n",
        "```\n",
        "데이터\n",
        "nationWidth = {\n",
        "     'korea': 220877,\n",
        "     'Rusia': 17098242,\n",
        "     'China': 9596961,\n",
        "     'France': 543965,\n",
        "     'Japan': 377915,\n",
        "     'England' : 242900 }\n",
        "\n",
        "출력\n",
        "England 22023\n",
        "```"
      ]
    },
    {
      "cell_type": "code",
      "metadata": {
        "colab": {
          "base_uri": "https://localhost:8080/"
        },
        "id": "-IrcST54b78C",
        "outputId": "042c8d2e-b26d-4393-cc79-8936935cb777"
      },
      "source": [
        "nationWidth = {\n",
        "\t'korea': 220877, \n",
        "\t'Rusia': 17098242, \n",
        "\t'China': 9596961, \n",
        "\t'France': 543965, \n",
        "\t'Japan': 377915,\n",
        "\t'England' : 242900,\n",
        "}\n",
        "\n",
        "w = nationWidth['korea']\n",
        "nationWidth.pop('korea')\n",
        "l = list(nationWidth.items())\n",
        "gap = max(nationWidth.values())\n",
        "item = 0\n",
        "\n",
        "for i in l:\n",
        "    if gap > abs(i[1] - w):\n",
        "        gap = abs(i[1] - w)\n",
        "        item = i\n",
        "print(item[0],item[1]-220877)"
      ],
      "execution_count": 4,
      "outputs": [
        {
          "output_type": "stream",
          "name": "stdout",
          "text": [
            "England 22023\n"
          ]
        }
      ]
    },
    {
      "cell_type": "markdown",
      "metadata": {
        "id": "pilyOCYLcrOv"
      },
      "source": [
        "# 57. 내장함수 응용하기"
      ]
    },
    {
      "cell_type": "markdown",
      "metadata": {
        "id": "Fgucwk4ncvna"
      },
      "source": [
        "0부터 1000까지 1의 개수를 세는 프로그램을 만들려고 합니다. 예를 들어 0부터 20까지 1의 개수를 세어본다면 1, 10 11, 12, 13, 14, 15, 16, 17, 18, 19 에 각각 1이 들어가므로 12개의 1이 있게 됩니다. 11은 1이 2번 들어간 셈이죠.\n",
        "\n",
        "그렇다면 0부터 1000까지 수에서 1은 몇번이나 들어갔을까요? 출력해주세요!"
      ]
    },
    {
      "cell_type": "code",
      "metadata": {
        "colab": {
          "base_uri": "https://localhost:8080/"
        },
        "id": "NhHVfkf5cnGi",
        "outputId": "546f61e9-3e11-4696-bd74-bcf6cbea9021"
      },
      "source": [
        "def count(n):\n",
        "\tcountN = str(list(range(n+1))).count('1')\n",
        "\treturn countN\n",
        "\n",
        "print(count(1000))"
      ],
      "execution_count": 5,
      "outputs": [
        {
          "output_type": "stream",
          "name": "stdout",
          "text": [
            "301\n"
          ]
        }
      ]
    },
    {
      "cell_type": "markdown",
      "metadata": {
        "id": "69GOW9qVdQOR"
      },
      "source": [
        "# 58. 콤마 찍기"
      ]
    },
    {
      "cell_type": "markdown",
      "metadata": {
        "id": "VVVM-RyLdS76"
      },
      "source": [
        "범이는 편의점 아르바이트가 끝난 후 정산을 하고자 합니다.\n",
        "정산을 빨리하고 집에가고 싶은 원범이는 프로그램을 만들려고 합니다.\n",
        "\n",
        "숫자를 입력 받고 천단위로 콤마(,)를 찍어주세요.\n",
        "\n",
        "예를들어, 123456789를 입력받았으면 123,456,789 를 출력해야합니다."
      ]
    },
    {
      "cell_type": "code",
      "metadata": {
        "colab": {
          "base_uri": "https://localhost:8080/"
        },
        "id": "X-E7lBQbc1aY",
        "outputId": "815fb5e8-1f48-4483-b36b-b5983f6678ac"
      },
      "source": [
        "n = int(input(\"숫자를 입력하세요:\"))\n",
        "print(format(n, \",\"))"
      ],
      "execution_count": 6,
      "outputs": [
        {
          "output_type": "stream",
          "name": "stdout",
          "text": [
            "숫자를 입력하세요:123456789\n",
            "123,456,789\n"
          ]
        }
      ]
    },
    {
      "cell_type": "markdown",
      "metadata": {
        "id": "a0EDEvkZfCMD"
      },
      "source": [
        "# 59. 빈칸 채우기"
      ]
    },
    {
      "cell_type": "markdown",
      "metadata": {
        "id": "rdmA8Q24fFED"
      },
      "source": [
        "총 문자열의 길이는 50으로 제한하고 사용자가 문자열을 입력하면 그 문자열을 가운데 정렬을 해주고, 나머지 빈 부분에는 '='을 채워넣어주세요"
      ]
    },
    {
      "cell_type": "code",
      "metadata": {
        "colab": {
          "base_uri": "https://localhost:8080/"
        },
        "id": "Zx2eHybydqgC",
        "outputId": "4092c19c-11d7-4d07-a6cc-9807aaa622a9"
      },
      "source": [
        "n= input(\"문자를 입력하세요: \")\n",
        "print(\"{0:=^50}\".format(n))"
      ],
      "execution_count": 7,
      "outputs": [
        {
          "output_type": "stream",
          "name": "stdout",
          "text": [
            "문자를 입력하세요: hi\n",
            "========================hi========================\n"
          ]
        }
      ]
    },
    {
      "cell_type": "markdown",
      "metadata": {
        "id": "cWGwEGMdfXBz"
      },
      "source": [
        "# 60. enumerate"
      ]
    },
    {
      "cell_type": "markdown",
      "metadata": {
        "id": "c_2adHQFfa0H"
      },
      "source": [
        "새학기가 되어 이름을 가나다 순서대로 배정하고 번호를 매기려고 합니다.\n",
        "코드에 입력된 이름을 아래와 같이 출력해주세요.\n",
        "```\n",
        "student = ['강은지','김유정','박현서','최성훈','홍유진','박지호','권윤일','김채리','한지호','김진이','김민호','강채연']\n",
        "\n",
        "\n",
        "출력\n",
        "번호: 1, 이름: 강은지\n",
        "번호: 2, 이름: 강채연\n",
        "번호: 3, 이름: 권윤일\n",
        "번호: 4, 이름: 김민호\n",
        "번호: 5, 이름: 김유정\n",
        "번호: 6, 이름: 김진이\n",
        "번호: 7, 이름: 김채리\n",
        "번호: 8, 이름: 박지호\n",
        "번호: 9, 이름: 박현서\n",
        "번호: 10, 이름: 최성훈\n",
        "번호: 11, 이름: 한지호\n",
        "번호: 12, 이름: 홍유진\n",
        "```"
      ]
    },
    {
      "cell_type": "code",
      "metadata": {
        "colab": {
          "base_uri": "https://localhost:8080/"
        },
        "id": "2WfoAoOQfQqA",
        "outputId": "06d446b9-31b2-410e-9c09-623876666107"
      },
      "source": [
        "student = ['강은지','김유정','박현서','최성훈','홍유진','박지호','권윤일','김채리','한지호','김진이','김민호','강채연']\n",
        "students = sorted(student)\n",
        "\n",
        "for number, name in enumerate(students):\n",
        "    print(\"번호: {}, 이름: {}\".format(number+1, name))"
      ],
      "execution_count": 10,
      "outputs": [
        {
          "output_type": "stream",
          "name": "stdout",
          "text": [
            "번호: 1, 이름: 강은지\n",
            "번호: 2, 이름: 강채연\n",
            "번호: 3, 이름: 권윤일\n",
            "번호: 4, 이름: 김민호\n",
            "번호: 5, 이름: 김유정\n",
            "번호: 6, 이름: 김진이\n",
            "번호: 7, 이름: 김채리\n",
            "번호: 8, 이름: 박지호\n",
            "번호: 9, 이름: 박현서\n",
            "번호: 10, 이름: 최성훈\n",
            "번호: 11, 이름: 한지호\n",
            "번호: 12, 이름: 홍유진\n"
          ]
        }
      ]
    },
    {
      "cell_type": "markdown",
      "metadata": {
        "id": "skB4-egGf3sR"
      },
      "source": [
        "* enumerate\n",
        " - 반복문 사용 시 몇 번째 반복문인지 확인이 필요할 때 사용"
      ]
    }
  ]
}