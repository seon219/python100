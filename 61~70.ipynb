{
  "nbformat": 4,
  "nbformat_minor": 0,
  "metadata": {
    "colab": {
      "name": "61~70.ipynb",
      "provenance": [],
      "authorship_tag": "ABX9TyMsUzM5cBY3SVvJEu+wIym3",
      "include_colab_link": true
    },
    "kernelspec": {
      "name": "python3",
      "display_name": "Python 3"
    },
    "language_info": {
      "name": "python"
    }
  },
  "cells": [
    {
      "cell_type": "markdown",
      "metadata": {
        "id": "view-in-github",
        "colab_type": "text"
      },
      "source": [
        "<a href=\"https://colab.research.google.com/github/seon219/python100/blob/main/61~70.ipynb\" target=\"_parent\"><img src=\"https://colab.research.google.com/assets/colab-badge.svg\" alt=\"Open In Colab\"/></a>"
      ]
    },
    {
      "cell_type": "markdown",
      "metadata": {
        "id": "G9-NhK0XsX2c"
      },
      "source": [
        "# 61. 문자열 압축하기"
      ]
    },
    {
      "cell_type": "markdown",
      "metadata": {
        "id": "x0T7lEuCslpK"
      },
      "source": [
        "문자열을 입력받고 연속되는 문자열을 압축해서 표현하고싶습니다.\n",
        "```\n",
        "입력\n",
        "aaabbbbcdddd\n",
        "\n",
        "출력\n",
        "a3b4c1d4\n",
        "```"
      ]
    },
    {
      "cell_type": "code",
      "metadata": {
        "colab": {
          "base_uri": "https://localhost:8080/"
        },
        "id": "uwSrqHbzrnay",
        "outputId": "81e41229-6a8c-427c-e6de-8989a3b62444"
      },
      "source": [
        "n = input(\"문자열을 입력하세요: \")\n",
        "\n",
        "result = n[0]  # 첫번째 값을 결과에 넣는다\n",
        "count  = 0   \n",
        "\n",
        "for i in n:\n",
        "    if i == result[-1]:  \n",
        "        count += 1\n",
        "    else:\n",
        "        result += str(count) + i\n",
        "        count = 1\n",
        "result += str(count)\n",
        "\n",
        "print(result)"
      ],
      "execution_count": 2,
      "outputs": [
        {
          "output_type": "stream",
          "name": "stdout",
          "text": [
            "문자열을 입력하세요: aaabbbbcdddd\n",
            "a3b4c1d4\n"
          ]
        }
      ]
    },
    {
      "cell_type": "markdown",
      "metadata": {
        "id": "Or_-VO_etZmG"
      },
      "source": [
        "# 62. 20190923출력하기"
      ]
    },
    {
      "cell_type": "markdown",
      "metadata": {
        "id": "kWZNcjkOtgxY"
      },
      "source": [
        "기준을 만족하여 출력하기\n",
        "1. 코드 내에 숫자가 없어야 합니다.\n",
        "    - 예) print(20190923)이라고 하시면 안됩니다.\n",
        "2. 파일 이름이나 경로를 사용해서는 안됩니다.\n",
        "3. 시간, 날짜 함수를 사용해서는 안됩니다.\n",
        "4. 에러 번호 출력을 이용해서는 안됩니다.\n",
        "5. input을 이용해서는 안됩니다."
      ]
    },
    {
      "cell_type": "code",
      "metadata": {
        "colab": {
          "base_uri": "https://localhost:8080/"
        },
        "id": "vTTZWnhctAmt",
        "outputId": "f536e39b-cbcd-47cc-cc0a-c0b61bcb6d73"
      },
      "source": [
        "string='aacddddddddd'\n",
        "a=string.count('a') #2\n",
        "b=string.count('b') #0\n",
        "c=string.count('c') #1\n",
        "d=string.count('d') #9\n",
        "print(int(str(a)+str(b)+str(c)+str(d)+str(b)+str(d)+str(a)+str(a+1)))"
      ],
      "execution_count": 3,
      "outputs": [
        {
          "output_type": "stream",
          "name": "stdout",
          "text": [
            "20190923\n"
          ]
        }
      ]
    },
    {
      "cell_type": "markdown",
      "metadata": {
        "id": "qsBnTse0tu8P"
      },
      "source": [
        "# 63. 친해지고 싶어"
      ]
    },
    {
      "cell_type": "markdown",
      "metadata": {
        "id": "9D3SoduZtxX5"
      },
      "source": [
        "한국대학교의 김한국교수님은 학생들과 친해지기 위해서 딸에게 줄임말을 배우기로 했습니다.\n",
        "딸은 '복잡한 세상 편하게 살자' 라는 문장을 '복세편살'로 줄여 말합니다.\n",
        "\n",
        "교수님이 줄임말을 배우기 위해 위와 같이 어떤 입력이 주어지면 앞 글자만 줄여 출력하도록 해주세요.\n",
        "\n",
        "```\n",
        "입력 - 입력은 한글 혹은 영어로 입력됩니다.\n",
        "복잡한 세상 편하게 살자\n",
        "\n",
        "\n",
        "출력 - 띄어쓰기를 기준으로 하여 짧은 형태로 출력합니다.\n",
        "복세편살\n",
        "```"
      ]
    },
    {
      "cell_type": "code",
      "metadata": {
        "colab": {
          "base_uri": "https://localhost:8080/"
        },
        "id": "fneQa9ihtrkA",
        "outputId": "57335389-8f5f-4e47-8f2e-6f541aa73d37"
      },
      "source": [
        "n = input(\"띄어쓰기를 이용하여 문장을 입력하세요: \").split(' ')\n",
        "result = ''\n",
        "\n",
        "for s in n:\n",
        "    result += s[0]\n",
        "\n",
        "print(result)"
      ],
      "execution_count": 4,
      "outputs": [
        {
          "output_type": "stream",
          "name": "stdout",
          "text": [
            "띄어쓰기를 이용하여 문장을 입력하세요: 복잡한 세상 편하게 살자\n",
            "복세편살\n"
          ]
        }
      ]
    },
    {
      "cell_type": "markdown",
      "metadata": {
        "id": "CkSzbZ4SuNsh"
      },
      "source": [
        "# 64. 이상한 엘레베이터"
      ]
    },
    {
      "cell_type": "markdown",
      "metadata": {
        "id": "Twxx2fLyuSdw"
      },
      "source": [
        "정량 N에 정확히 맞춰야만 움직이는 화물용 엘레베이터가 있습니다.\n",
        "화물은 7kg, 3kg 두 가지이며 팔이 아픈 은후는 가장 적게 화물을 옮기고 싶습니다.\n",
        "\n",
        "예를 들어 정량이 24kg이라면 3kg 8개를 옮기는 것 보다는\n",
        "7kg 3개, 3kg 1개 즉 4개로 더 적게 옮길 수 있습니다.\n",
        "\n",
        "```\n",
        "입력\n",
        "정량 N이 입력됩니다.\n",
        "\n",
        "출력\n",
        "가장 적게 옮길 수 있는 횟수를 출력합니다.\n",
        "만약 어떻게 해도 정량이 N이 되지 않는다면 -1을 출력합니다.\n",
        "```"
      ]
    },
    {
      "cell_type": "code",
      "metadata": {
        "colab": {
          "base_uri": "https://localhost:8080/"
        },
        "id": "mu3IcCjTuFSB",
        "outputId": "f5e8ef76-62f1-4db7-9fb2-531a6712d6b2"
      },
      "source": [
        "N = int(input(\"정량을 입력하세요: \"))\n",
        "result = 0\n",
        "\n",
        "while True:\n",
        "    if N%7 ==0:\n",
        "        result += N//7\n",
        "        print(result)\n",
        "        break\n",
        "    N -= 3\n",
        "    result += 1\n",
        "    if N < 0:\n",
        "        print(-1)\n",
        "        break"
      ],
      "execution_count": 5,
      "outputs": [
        {
          "output_type": "stream",
          "name": "stdout",
          "text": [
            "정량을 입력하세요: 24\n",
            "4\n"
          ]
        }
      ]
    },
    {
      "cell_type": "markdown",
      "metadata": {
        "id": "oqya4YHJ6xGZ"
      },
      "source": [
        "# 65. 변형된 리스트"
      ]
    },
    {
      "cell_type": "markdown",
      "metadata": {
        "id": "KwRISTO260JU"
      },
      "source": [
        "a = [1,2,3,4]\n",
        "\n",
        "b = [a,b,c,d]\n",
        "\n",
        "이런 리스트가 있을 때 [[1,a],[b,2],[3,c],[d,4]] 이런식으로 a,b리스트가 번갈아가면서 출력되게 해주세요"
      ]
    },
    {
      "cell_type": "code",
      "metadata": {
        "colab": {
          "base_uri": "https://localhost:8080/"
        },
        "id": "VMCeqTpq6q7T",
        "outputId": "0bcf744c-c76c-4d10-a80b-1f053e14ad25"
      },
      "source": [
        "a = input(\"띄어쓰기를 이용하여 입력하세요: \").split(' ')\n",
        "b = input(\"띄어쓰기를 이용하여 입력하세요: \").split(' ')\n",
        "\n",
        "c = []\n",
        "count = 0\n",
        "\n",
        "for i, j in zip(a, b):\n",
        "\tif count % 2 == 0:\n",
        "\t\tc.append([i, j])\n",
        "\telse:\n",
        "\t\tc.append([j, i])\n",
        "\tcount += 1\n",
        "\n",
        "print(c)"
      ],
      "execution_count": 8,
      "outputs": [
        {
          "output_type": "stream",
          "name": "stdout",
          "text": [
            "띄어쓰기를 이용하여 입력하세요: 1 2 3 4\n",
            "띄어쓰기를 이용하여 입력하세요: a b c d\n",
            "[['1', 'a'], ['b', '2'], ['3', 'c'], ['d', '4']]\n"
          ]
        }
      ]
    },
    {
      "cell_type": "markdown",
      "metadata": {
        "id": "zHxi4LjN_33I"
      },
      "source": [
        "# 66. 블럭 탑 쌓기"
      ]
    },
    {
      "cell_type": "markdown",
      "metadata": {
        "id": "TlnqHnzT_9IP"
      },
      "source": [
        "탑을 쌓기 위해 각 크기별로 준비된 블럭들을 정해진 순서에 맞게 쌓아햐 합니다.\n",
        "순서에 맞게 쌓지 않으면 무너질 수 있습니다.\n",
        "예를 들면 정해진 순서가 BAC 라면 A 다음 C가 쌓아져야 합니다.\n",
        "선행으로 쌓아야 하는 블럭이 만족된 경우라면 탑이 무너지지 않습니다.\n",
        "\n",
        "- B를 쌓지 않아도 A와 C를 쌓을 수 있습니다.\n",
        "- B 다음 블럭이 C가 될 수 있습니다.\n",
        "\n",
        "쌓아져 있는 블럭 탑이 순서에 맞게 쌓아져 있는지 확인하세요.\n",
        "\n",
        "1. 블럭은 알파벳 대문자로 표기합니다.\n",
        "2. 규칙에 없는 블럭이 사용될 수 있습니다.\n",
        "3. 중복된 블럭은 존재하지 않습니다.\n",
        "```\n",
        "입력\n",
        "탑 = [\"ABCDEF\", \"BCAD\", \"ADEFQRX\", \"BEDFG\"]\n",
        "규칙 = \"ABD\"\n",
        "출력\n",
        "[\"가능\",\"불가능\",\"가능\",\"가능]\n",
        "```"
      ]
    },
    {
      "cell_type": "code",
      "metadata": {
        "colab": {
          "base_uri": "https://localhost:8080/"
        },
        "id": "PZ-Lt6gx8AR0",
        "outputId": "6c1b73da-09d6-4088-b8fa-10aff7080133"
      },
      "source": [
        "def solution(전체블록, 규칙):\n",
        "    answer = []\n",
        "    for 부분블록 in 전체블록:\n",
        "        answer.append(블록순서체크(부분블록, 규칙))\n",
        "    return answer\n",
        "\n",
        "def 블록순서체크(부분블록, 규칙):\n",
        "    임시변수 = 규칙.index(규칙[0])\n",
        "    for 문자 in 부분블록:\n",
        "        if 문자 in 규칙:\n",
        "            if 임시변수 > 규칙.index(문자):\n",
        "                return '불가능'\n",
        "            임시변수 = 규칙.index(문자)\n",
        "    return '가능'\n",
        "\n",
        "전체블록 = ['ABCDEF', 'BCAD', 'ADEFQRX', 'BEDFG', 'AEBFDGCH']\n",
        "규칙 = 'ABCD'\n",
        "\n",
        "print(solution(전체블록, 규칙))"
      ],
      "execution_count": 9,
      "outputs": [
        {
          "output_type": "stream",
          "name": "stdout",
          "text": [
            "['가능', '불가능', '가능', '가능', '불가능']\n"
          ]
        }
      ]
    },
    {
      "cell_type": "markdown",
      "metadata": {
        "id": "QneClMV3AOu4"
      },
      "source": [
        "# 67. 민규의 악수"
      ]
    },
    {
      "cell_type": "markdown",
      "metadata": {
        "id": "W1Ti2ghXAR_7"
      },
      "source": [
        "광장에서 모인 사람들과 악수를 하는 행사가 열렸다.\n",
        "참가자인 민규는 몇명의 사람들과 악수를 한 후 중간에 일이 생겨 집으로 갔다.\n",
        "이 행사에서 진행된 악수는 총 n번이라고 했을때.\n",
        "\n",
        "민규는 몇번의 악수를 하고 집으로 돌아갔을까?\n",
        "이때 민규를 포함한 행사 참가자는 몇명일까?\n",
        "\n",
        "- 악수는 모두 1대 1로 진행이 된다.\n",
        "- 민규를 제외한 모든 참가자는 자신을 제외한 참가자와 모두 한번씩 악수를 한다.\n",
        "- 같은 상대와 중복된 악수는 카운트 하지 않는다.\n",
        "- 민규를 제외한 참가자는 행사를 모두 마쳤다.\n",
        "\n",
        "input : n (행사에서 진행된 악수 횟수)\n",
        "\n",
        "output : [ 민규의 악수횟수 , 행사참가자]"
      ]
    },
    {
      "cell_type": "code",
      "metadata": {
        "colab": {
          "base_uri": "https://localhost:8080/"
        },
        "id": "cz0k5PTDALQ2",
        "outputId": "f1884636-bb5c-45ce-b88e-6f5b1b377bcd"
      },
      "source": [
        "n = int(input(\"악수 횟수를 입력하세요: \"))\n",
        "def solution(n):\n",
        "    people = 0\n",
        "    total = 0\n",
        "    while(True):\n",
        "        total = people*(people-1)/2\n",
        "        if n<total:\n",
        "            break\n",
        "        people += 1\n",
        "    times = int(people-(total-n)-1)\n",
        "    return [times,people]\n",
        "\n",
        "print(solution(n))"
      ],
      "execution_count": 18,
      "outputs": [
        {
          "output_type": "stream",
          "name": "stdout",
          "text": [
            "악수 횟수를 입력하세요: 59\n",
            "[4, 12]\n"
          ]
        }
      ]
    },
    {
      "cell_type": "markdown",
      "metadata": {
        "id": "eVMSNFEgG0tg"
      },
      "source": [
        "# 68. 버스 시간표"
      ]
    },
    {
      "cell_type": "markdown",
      "metadata": {
        "id": "l-nPek98G5Wy"
      },
      "source": [
        "학교가 끝난 지원이는 집에 가려고 합니다. 학교 앞에 있는 버스 시간표는 너무 복잡해서 버스 도착시간이 몇 분 남았는지 알려주는 프로그램을 만들고 싶습니다.\n",
        "버스시간표와 현재 시간이 주어졌을 때 버스 도착 시간이 얼마나 남았는지 알려주는 프로그램을 만들어주세요.\n",
        "\n",
        "- 버스 시간표와 현재시간이 입력으루 주어집니다.\n",
        "- 출력 포맷은 \"00시00분\"입니다.\n",
        "   만약 1시간 3분이 남았다면 \"01시간03분\"으로 출력해야 합니다.\n",
        "- 버스 시간표에 현재 시간보다 이전인 버스가 있다면 \"지나갔습니다.\"라고 출력합니다.\n",
        "\n",
        "```\n",
        "입력\n",
        "[\"12:30\", \"13:20\", \"14:13\"]\n",
        "\"12:40\"\n",
        "\n",
        "\n",
        "출력\n",
        "['지나갔습니다', '0시간 40분', '1시간 33분']\n",
        "```"
      ]
    },
    {
      "cell_type": "code",
      "metadata": {
        "colab": {
          "base_uri": "https://localhost:8080/"
        },
        "id": "DC9n3zvvAlTa",
        "outputId": "f2b7d69b-b20c-4b3f-b28c-09019fe86d05"
      },
      "source": [
        "def sol(tb, rt):\n",
        "    answer = []\n",
        "    rt = rt.split(':')\n",
        "    for i in range(len(tb)):\n",
        "        time = tb[i].split(':')\n",
        "        time_to_min = ((int(time[0])*60 + int(time[1])) - (int(rt[0])*60+int(rt[1])))\n",
        "        if time_to_min < 0:\n",
        "            answer.append(\"지나갔습니다\")\n",
        "        else:\n",
        "            a = (time_to_min) // 60\n",
        "            b = (time_to_min) % 60\n",
        "            answer.append(str(a).zfill(2)+'시간 '+str(b).zfill(2)+'분')\n",
        "    return answer\n",
        "\n",
        "sol([\"12:30\", \"13:20\", \"14:13\"], \"12:40\")"
      ],
      "execution_count": 19,
      "outputs": [
        {
          "output_type": "execute_result",
          "data": {
            "text/plain": [
              "['지나갔습니다', '00시간 40분', '01시간 33분']"
            ]
          },
          "metadata": {},
          "execution_count": 19
        }
      ]
    },
    {
      "cell_type": "markdown",
      "metadata": {
        "id": "uWxorNYuHFmT"
      },
      "source": [
        "# 69. 골드바흐의 추측"
      ]
    },
    {
      "cell_type": "markdown",
      "metadata": {
        "id": "p_WB0mGKHI1C"
      },
      "source": [
        "골드바흐의 추측(Goldbach's conjecture)은 오래전부터 알려진 정수론의 미해결 문제로, 2보다 큰 모든 짝수는 두 개의 소수(Prime number)의 합으로 표시할 수 있다는 것이다. 이때 하나의 소수를 두 번 사용하는 것은 허용한다. - 위키백과\n",
        "\n",
        "위 설명에서 2보다 큰 모든 짝수를 두 소수의 합으로 나타낸 것을 골드바흐 파티션이라고 합니다.\n",
        "\n",
        "예)\n",
        "100 == 47 + 53\n",
        "56 == 19 + 37\n",
        "\n",
        "2보다 큰 짝수 n이 주어졌을 때, 골드바흐 파티션을 출력하는 코드를 작성하세요. \n",
        "\n",
        "* 해당 문제의 출력 형식은 자유롭습니다. 가능하시다면 골드바흐 파티션 모두를 출력하거나, 그 차가 작은 것을 출력하거나 그 차가 큰 것 모두 출력해보세요."
      ]
    },
    {
      "cell_type": "code",
      "metadata": {
        "colab": {
          "base_uri": "https://localhost:8080/"
        },
        "id": "9RiMcE-pHAF0",
        "outputId": "77d3a4b9-4baa-48eb-cdf9-ac18ae2641b1"
      },
      "source": [
        "#골드바흐의 추측\n",
        "def cal():\n",
        "    n=10000*2\n",
        "    primes=[]    \n",
        "    a = [False,False] + [True]*(n-1)\n",
        "\n",
        "    for i in range(2,n+1):\n",
        "      if a[i]:\n",
        "        primes.append(i)\n",
        "        for j in range(2*i, n+1, i):\n",
        "            a[j] = False\n",
        "            \n",
        "    return primes\n",
        "\n",
        "\n",
        "a = cal()\n",
        "\n",
        "#골드바흐파티션\n",
        "n = int(input(\"숫자를 입력하세요: \"))\n",
        "l = []\n",
        "k = []\t\n",
        "\n",
        "for i in range(2, n//2+1):    \n",
        "    if i in a and n-i in a:\n",
        "        l.append(i)\n",
        "        l.append(n-i)\n",
        "\n",
        "for i in range(0,len(l)-1,2):\n",
        "    k.append(l[i+1]-l[i])\n",
        "    \n",
        "index = k.index(min(k))*2\n",
        "print(l[index], l[index+1])"
      ],
      "execution_count": 21,
      "outputs": [
        {
          "output_type": "stream",
          "name": "stdout",
          "text": [
            "숫자를 입력하세요: 100\n",
            "47 53\n"
          ]
        }
      ]
    },
    {
      "cell_type": "markdown",
      "metadata": {
        "id": "9Nn67_pYHV3P"
      },
      "source": [
        "# 70. 행렬 곱하기"
      ]
    },
    {
      "cell_type": "markdown",
      "metadata": {
        "id": "7K8GA7i7HVvw"
      },
      "source": [
        "행렬 2개가 주어졌을 때 곱할 수 있는 행렬인지 확인하고 곱할 수 있다면 그 결과를, 곱할 수 없다면 -1을 출력하는 프로그램을 만들어주세요.\n",
        "\n",
        "* 라이브러리는 사용을 금지합니다.\n",
        "\n",
        "```\n",
        "입력\n",
        "a = ([1, 2],\n",
        "     [2, 4])\n",
        "b = ([1, 0],\n",
        "     [0, 3])\n",
        "\n",
        "출력\n",
        "([1,6], [2,12])\n",
        "```"
      ]
    },
    {
      "cell_type": "code",
      "metadata": {
        "id": "uoM8Yc-gHNFj"
      },
      "source": [
        "def sol(a, b):\n",
        "    c = []\n",
        "    if len(a) == len(b[0]):\n",
        "        for i in range(len(a)):\n",
        "            c.append([0]*len(b[0]))\n",
        "        for i in range(len(c)):\n",
        "            for j in range(len(c[i])):\n",
        "                for k in range(len(a[i])):\n",
        "                    c[i][j] += a[i][k] * b[k][j]\n",
        "        return c\n",
        "    else:\n",
        "        return -1"
      ],
      "execution_count": 22,
      "outputs": []
    }
  ]
}