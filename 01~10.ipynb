{
  "nbformat": 4,
  "nbformat_minor": 0,
  "metadata": {
    "colab": {
      "name": "1~10.ipynb",
      "provenance": [],
      "authorship_tag": "ABX9TyOfd7cvMC2dhrfDi8WlwSub",
      "include_colab_link": true
    },
    "kernelspec": {
      "name": "python3",
      "display_name": "Python 3"
    },
    "language_info": {
      "name": "python"
    }
  },
  "cells": [
    {
      "cell_type": "markdown",
      "metadata": {
        "id": "view-in-github",
        "colab_type": "text"
      },
      "source": [
        "<a href=\"https://colab.research.google.com/github/seon219/python100/blob/main/1~10.ipynb\" target=\"_parent\"><img src=\"https://colab.research.google.com/assets/colab-badge.svg\" alt=\"Open In Colab\"/></a>"
      ]
    },
    {
      "cell_type": "markdown",
      "metadata": {
        "id": "Y6a00UgcL-dN"
      },
      "source": [
        "#1. 리스트 삭제"
      ]
    },
    {
      "cell_type": "code",
      "metadata": {
        "colab": {
          "base_uri": "https://localhost:8080/"
        },
        "id": "vS-7671oGvIx",
        "outputId": "4704f976-3bb1-4749-cad5-40568830559c"
      },
      "source": [
        "nums = [100, 200, 300, 400, 500]\n",
        "nums.pop()\n",
        "nums.pop()\n",
        "print(nums)"
      ],
      "execution_count": 5,
      "outputs": [
        {
          "output_type": "stream",
          "name": "stdout",
          "text": [
            "[100, 200, 300]\n"
          ]
        }
      ]
    },
    {
      "cell_type": "markdown",
      "metadata": {
        "id": "oNyHPOW4KTVc"
      },
      "source": [
        "* pop 함수 - 리스트 요소 끄집어내기\n",
        " - pop()은 리스트의 맨 마지막 요소를 가져간다\n",
        "   - nums.pop()은 500 이고, nums는 그 외의 것\n",
        " - pop(x)는 리스트의 x번째 요소를 가져간다\n",
        "   - nums,pop(1)은 200이고, nums는 그 외의 것"
      ]
    },
    {
      "cell_type": "code",
      "metadata": {
        "colab": {
          "base_uri": "https://localhost:8080/"
        },
        "id": "jDBRNtcDHTAI",
        "outputId": "9ac6de5c-80cf-4588-efee-da44ce16781b"
      },
      "source": [
        "nums = [100, 200, 300, 400, 500]\n",
        "del nums[3:]\n",
        "print(nums)"
      ],
      "execution_count": 7,
      "outputs": [
        {
          "output_type": "stream",
          "name": "stdout",
          "text": [
            "[100, 200, 300]\n"
          ]
        }
      ]
    },
    {
      "cell_type": "markdown",
      "metadata": {
        "id": "BXA6ila5JlVZ"
      },
      "source": [
        "* del 함수 - 리스트 요소 삭제\n",
        " - del nums[x]는 x번째 요소값을 삭제\n",
        " - del nums[x:]는 슬라이싱 기법(:)으로 리스트의 요소 여러 개를 한꺼번에 삭제 가능"
      ]
    },
    {
      "cell_type": "markdown",
      "metadata": {
        "id": "TXBOS8VAMC39"
      },
      "source": [
        "# 2. 리스트의 내장함수"
      ]
    },
    {
      "cell_type": "code",
      "metadata": {
        "colab": {
          "base_uri": "https://localhost:8080/"
        },
        "id": "kEUDjihOLbiw",
        "outputId": "03d921e3-77ef-459d-e4a7-7aaf0a4ca13d"
      },
      "source": [
        "l = [200, 100, 300]\n",
        "l.insert(2, 10000)\n",
        "print(l)"
      ],
      "execution_count": 12,
      "outputs": [
        {
          "output_type": "stream",
          "name": "stdout",
          "text": [
            "[200, 100, 10000, 300]\n"
          ]
        }
      ]
    },
    {
      "cell_type": "markdown",
      "metadata": {
        "id": "W9MfiSzKMED1"
      },
      "source": [
        "* insert - 리스트에 요소 삽입\n",
        " - insert(a,b)는 리스트의 a번째 위치에 b를 삽입하는 함수"
      ]
    },
    {
      "cell_type": "markdown",
      "metadata": {
        "id": "LARYRESAMVbF"
      },
      "source": [
        "# 3. 변수의 타입"
      ]
    },
    {
      "cell_type": "code",
      "metadata": {
        "colab": {
          "base_uri": "https://localhost:8080/"
        },
        "id": "Sdcnv-x5Lsa3",
        "outputId": "901f2c53-8b84-4ae8-ce92-0a04ee291ebd"
      },
      "source": [
        "ㅣ = [100, 200, 300]\n",
        "print(type(l))"
      ],
      "execution_count": 13,
      "outputs": [
        {
          "output_type": "stream",
          "name": "stdout",
          "text": [
            "<class 'list'>\n"
          ]
        }
      ]
    },
    {
      "cell_type": "markdown",
      "metadata": {
        "id": "OxrcyvFLaCY3"
      },
      "source": [
        "* 리스트 자료형(list)\n",
        " - 대괄호( [ ] )를 사용하고 쉼표( , )로 구분\n",
        "* 문자열 자료형 (str)\n",
        " - 큰 따옴표( \" ) 사용\n",
        " - 작은 따옴표( ' ) 사용\n",
        " - 큰/작은 따옴표 3개를 연속으로 사용(\" \" \"), (' ' ')\n",
        "* 숫자형 (int)\n",
        " - 정수형 (int)\n",
        " - 실수형(float)"
      ]
    },
    {
      "cell_type": "markdown",
      "metadata": {
        "id": "NZWNDdl_MmOy"
      },
      "source": [
        "# 4. 변수의 타입2"
      ]
    },
    {
      "cell_type": "markdown",
      "metadata": {
        "id": "SoKQ5LAeMvS9"
      },
      "source": [
        "3번. char이 아닌 str이어야 함\n",
        "* 파이썬에서는 1글자를 표현하는 char과 char의 배열은 string을 구분하지 않고 모두 string으로 사용"
      ]
    },
    {
      "cell_type": "markdown",
      "metadata": {
        "id": "8Oc7h0x_M91E"
      },
      "source": [
        "# 5. for문 계산"
      ]
    },
    {
      "cell_type": "code",
      "metadata": {
        "colab": {
          "base_uri": "https://localhost:8080/"
        },
        "id": "M9JbJO7qMgPv",
        "outputId": "af9d5406-a9b2-4f84-8766-51fa12540719"
      },
      "source": [
        "a = 10\n",
        "b = 2\n",
        "for i in range(1, 5, 2): # 1부터 4까지 2씩 증가\n",
        "  a += i\n",
        "\n",
        "print(a+b)"
      ],
      "execution_count": 14,
      "outputs": [
        {
          "output_type": "stream",
          "name": "stdout",
          "text": [
            "16\n"
          ]
        }
      ]
    },
    {
      "cell_type": "markdown",
      "metadata": {
        "id": "iLi4JJ81XVHJ"
      },
      "source": [
        "* for i in range(시작값, 끝값, 증가폭)\n",
        "* 끝값은 마지막 숫자보다 1큼\n",
        "\n"
      ]
    },
    {
      "cell_type": "markdown",
      "metadata": {
        "id": "RaevPOK7Ylos"
      },
      "source": [
        "# 6. False\n"
      ]
    },
    {
      "cell_type": "markdown",
      "metadata": {
        "id": "6nJ_fQd2Yu3a"
      },
      "source": [
        "2번. 1은 True이다.\n",
        "* \"\",''은 Flase지만, \" \", ' '는 공백 문자기 있기 때문에 True이다.\n",
        "* bool(-1)이라면 True. 0 외의 다른 숫자들은 모두 True 이다."
      ]
    },
    {
      "cell_type": "markdown",
      "metadata": {
        "id": "oEVmaHIXY6Xa"
      },
      "source": [
        "# 7. 변수명"
      ]
    },
    {
      "cell_type": "markdown",
      "metadata": {
        "id": "uXEyCTBdZAOV"
      },
      "source": [
        "4번, 5번. as는 예약어 이므로 사용할 수 없고, 변수명은 숫자로 시작할 수 없다.\n",
        "* 예약어는 프로그래밍 언어에서 이미 문접적인 용도로 사용하고 있는 단어"
      ]
    },
    {
      "cell_type": "markdown",
      "metadata": {
        "id": "CDe4_sAIb8yB"
      },
      "source": [
        "* 변수명 생성 규칙\n",
        " - 영문 문자와 숫자를 사용할 수 있음\n",
        " - 대소문자 구분해야 함\n",
        " - 문자부터 시작해야하며, 숫자부터 시작할 수 없다\n",
        " - _로 시작할 수 있음\n",
        " - 특수문자는 사용할 수 없음(+, -, *, /, $, @, % 등)\n",
        " -파이썬의 키워드 (if, for, while, and, or 등)"
      ]
    },
    {
      "cell_type": "markdown",
      "metadata": {
        "id": "alwjYw0Ac1jO"
      },
      "source": [
        "# 8. 딕셔너리 키 이름 중복"
      ]
    },
    {
      "cell_type": "code",
      "metadata": {
        "colab": {
          "base_uri": "https://localhost:8080/"
        },
        "id": "C3T5jlMnNQJ7",
        "outputId": "fbd79d34-2c61-4fd4-d22b-f59946922298"
      },
      "source": [
        "d = {'height':180,'weight':78,'weight':84,'temparture':36,'eyesight':1}\n",
        "print(d['weight'])"
      ],
      "execution_count": 15,
      "outputs": [
        {
          "output_type": "stream",
          "name": "stdout",
          "text": [
            "84\n"
          ]
        }
      ]
    },
    {
      "cell_type": "markdown",
      "metadata": {
        "id": "w6T8gq35dAqG"
      },
      "source": [
        "* 딕셔너리는 중복을 허용하지 않으므로 가장 마지막값을 출력\n",
        "* 딕셔너리란?\n",
        " - 연관된 값을 묶어서 저장하는 용도의 자료형\n",
        " - 사전에서 단어를 찾듯이 값을 가져올 수 있다고 하여 딕셔너리라고 부름\n",
        "* 딕셔너리 만들기\n",
        " - 중괄호( { } ) 안에 { 키 : 값 } 형식으로 저장\n",
        " - 각각의 내용을 컴마( , )로 구분"
      ]
    },
    {
      "cell_type": "markdown",
      "metadata": {
        "id": "-kibNdeldqUF"
      },
      "source": [
        "# 9. sep와 end를 활용한 출력방법"
      ]
    },
    {
      "cell_type": "code",
      "metadata": {
        "colab": {
          "base_uri": "https://localhost:8080/"
        },
        "id": "uH50XpL7NqTi",
        "outputId": "375f662f-6334-4828-fe6a-58c52cf47c91"
      },
      "source": [
        "year = '2019'\n",
        "month = '04'\n",
        "day = '26'\n",
        "hour = '11'\n",
        "minute = '34'\n",
        "second = '27'\n",
        "\n",
        "print(year, month, day, sep = '/' ,end = ' ')\n",
        "print(hour, minute, second, sep = ':')"
      ],
      "execution_count": 18,
      "outputs": [
        {
          "output_type": "stream",
          "name": "stdout",
          "text": [
            "2019/04/26 11:34:27\n"
          ]
        }
      ]
    },
    {
      "cell_type": "markdown",
      "metadata": {
        "id": "1Y3R4UH4eFMT"
      },
      "source": [
        "* sep로 값 사이에 문자 넣기\n",
        " - 값 사이에 공백이 아닌 문자를 넣고 싶을 때 사용\n",
        "* end 사용하기\n",
        " - 파이썬은 print할 때 기본적으로 마지막에 \\n을 붙이기 때문에 print를 여러번 사용하면 여러줄에 출력\n",
        " - 한줄에 출력하기 위해 end를 사용"
      ]
    },
    {
      "cell_type": "markdown",
      "metadata": {
        "id": "gF5a9OAlinr6"
      },
      "source": [
        "# 10. 별찍기"
      ]
    },
    {
      "cell_type": "code",
      "metadata": {
        "colab": {
          "base_uri": "https://localhost:8080/"
        },
        "id": "3ytBNNpldyyK",
        "outputId": "b34e8d3d-5cf9-41da-a2f4-effe488323af"
      },
      "source": [
        "n = int(input())\n",
        "for i in range(1,n+1):\n",
        "\tprint(\" \"*(n-i)+(\"*\"*(2*i-1)))"
      ],
      "execution_count": 20,
      "outputs": [
        {
          "output_type": "stream",
          "name": "stdout",
          "text": [
            "10\n",
            "         *\n",
            "        ***\n",
            "       *****\n",
            "      *******\n",
            "     *********\n",
            "    ***********\n",
            "   *************\n",
            "  ***************\n",
            " *****************\n",
            "*******************\n"
          ]
        }
      ]
    }
  ]
}
