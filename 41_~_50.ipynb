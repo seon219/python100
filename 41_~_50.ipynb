{
  "nbformat": 4,
  "nbformat_minor": 0,
  "metadata": {
    "colab": {
      "name": "41 ~ 50.ipynb",
      "provenance": [],
      "authorship_tag": "ABX9TyPq5D3isdyMr7ir9D1aNQPi",
      "include_colab_link": true
    },
    "kernelspec": {
      "name": "python3",
      "display_name": "Python 3"
    },
    "language_info": {
      "name": "python"
    }
  },
  "cells": [
    {
      "cell_type": "markdown",
      "metadata": {
        "id": "view-in-github",
        "colab_type": "text"
      },
      "source": [
        "<a href=\"https://colab.research.google.com/github/seon219/python100/blob/main/41_~_50.ipynb\" target=\"_parent\"><img src=\"https://colab.research.google.com/assets/colab-badge.svg\" alt=\"Open In Colab\"/></a>"
      ]
    },
    {
      "cell_type": "markdown",
      "metadata": {
        "id": "1iYR1OViBz_C"
      },
      "source": [
        "# 41. 소수판별"
      ]
    },
    {
      "cell_type": "markdown",
      "metadata": {
        "id": "o8B4no3JB4E3"
      },
      "source": [
        "숫자가 주어지면 **소수인지 아닌지 판별하는 프로그램**을 작성해주세요.\n",
        "소수이면 YES로, 소수가 아니면 NO로 출력해주세요.\n",
        "\n",
        "- 소수 : 1과 자기 자신만으로 나누어떨어지는 1보다 큰 양의 정수\n",
        "- 음의 소수는 고려하지 않습니다."
      ]
    },
    {
      "cell_type": "code",
      "metadata": {
        "colab": {
          "base_uri": "https://localhost:8080/"
        },
        "id": "9L_gmZTFBv0i",
        "outputId": "d5e51927-4609-404d-8fba-98a951cd21a8"
      },
      "source": [
        "n = int(input(\"숫자를 입력하세요: \"))\n",
        "\n",
        "a = 0\n",
        "\n",
        "if n <= 0:\n",
        "  n = int(input(\"음수입니다. 다시입력하세요: \"))\n",
        "\n",
        "for i in range(2, n):\n",
        "  if n % i == 0:\n",
        "    a = 1\n",
        "\n",
        "if a == 0:\n",
        "  print(\"YES\")\n",
        "else :\n",
        "  print(\"NO\")"
      ],
      "execution_count": 8,
      "outputs": [
        {
          "output_type": "stream",
          "name": "stdout",
          "text": [
            "숫자를 입력하세요: 23\n",
            "YES\n"
          ]
        }
      ]
    },
    {
      "cell_type": "markdown",
      "metadata": {
        "id": "YZPNrcLeEAlW"
      },
      "source": [
        "# 42. 요일 구하기 (detetime 모듈 사용)"
      ]
    },
    {
      "cell_type": "markdown",
      "metadata": {
        "id": "xfIURL2EEH8C"
      },
      "source": [
        "2020년 1월 1일은 수요일입니다. 2020년 a월 b일은 무슨 요일일까요?\n",
        "두 수 a, b를 입력받아 2020년 a월 b일이 무슨 요일인지 리턴하는 함수, solution을 완성하세요.\n",
        "요일의 이름은 일요일부터 토요일까지 각각 SUN, MON, TUE, WED, THU, FRI, SAT 입니다.\n",
        "\n",
        "예를 들어 a = 5, b = 24라면 5월 24일은 일요일이므로 문자열 \"SUN\"를 반환하세요.\n",
        "\n",
        "**제한 조건**\n",
        "\n",
        "- 2020년은 윤년입니다.\n",
        "- 2020년 a월 b일은 실제로 있는 날입니다. \n",
        "(13월 26일이나 2월 45일 같은 날짜는 주어지지 않습니다.)\n",
        "- datetime 모듈을 사용하세요."
      ]
    },
    {
      "cell_type": "code",
      "metadata": {
        "colab": {
          "base_uri": "https://localhost:8080/"
        },
        "id": "eb8XIeXkEHKu",
        "outputId": "d2ff439a-44e8-420a-9a60-47294f443f1f"
      },
      "source": [
        "import datetime\n",
        "\n",
        "day = ['MON', 'TUE', 'WED', 'THU', 'FRI', 'SAT', 'SUN']\n",
        "a = int(input(\"월을 입력하세요: \"))\n",
        "b = int(input(\"일을 입력하세요: \"))\n",
        "\n",
        "n = day[datetime.date(2020, a, b).weekday()]\n",
        "print(n)"
      ],
      "execution_count": 11,
      "outputs": [
        {
          "output_type": "stream",
          "name": "stdout",
          "text": [
            "월을 입력하세요: 5\n",
            "일을 입력하세요: 24\n",
            "SUN\n"
          ]
        }
      ]
    },
    {
      "cell_type": "markdown",
      "metadata": {
        "id": "N38bUv91XPoz"
      },
      "source": [
        "# 43. 10진수를 2진수로"
      ]
    },
    {
      "cell_type": "markdown",
      "metadata": {
        "id": "6-ML2vuiXT2T"
      },
      "source": [
        "우리가 흔히 사용하는 숫자 1, 8, 19, 28893 등등...은 10진수 체계입니다.\n",
        "이를 컴퓨터가 알아 들을 수 있는 2진수로 바꾸려고 합니다. 어떻게 해야할까요?\n",
        "\n",
        "예를들어 13은 2^3 + 2^2 + 2^0 = 13 이기때문에 1101으로 표현합니다\n",
        "\n",
        "사용자에게 숫자를 입력받고 이를 2진수를 바꾸고 그 값을 출력해주세요.\n",
        "(bin 함수를 사용하지 않고 풀어주세요.)"
      ]
    },
    {
      "cell_type": "code",
      "metadata": {
        "colab": {
          "base_uri": "https://localhost:8080/"
        },
        "id": "WuipDu1uDiJw",
        "outputId": "dbca8922-354a-408c-d65d-873cd03e51bb"
      },
      "source": [
        "def binary(num):\n",
        "    save = []\n",
        "    \n",
        "    while True:\n",
        "        a = int(num / 2)\n",
        "        b = int(num % 2)\n",
        "        save.insert(0, b)\n",
        "        \n",
        "        if a != 0:\n",
        "            num = a\n",
        "        else:\n",
        "            break\n",
        "            \n",
        "    final = ''.join(map(str, save))\n",
        "    print(final)\n",
        "\n",
        "num = int(input(\"10진수를 입력하세요 : \"))\n",
        "binary(num)"
      ],
      "execution_count": 12,
      "outputs": [
        {
          "output_type": "stream",
          "name": "stdout",
          "text": [
            "10진수를 입력하시오 : 12\n",
            "1100\n"
          ]
        }
      ]
    },
    {
      "cell_type": "code",
      "metadata": {
        "colab": {
          "base_uri": "https://localhost:8080/"
        },
        "id": "UHg-mQ2sYG0e",
        "outputId": "9630d43f-4755-4786-c7a9-dd778670ee0f"
      },
      "source": [
        "a = int(input(\"10진수를 입력하세요: \"))\n",
        "b = []\n",
        "\n",
        "while a:\n",
        "    print(a)\n",
        "    b.append(str(a % 2))\n",
        "    a = int(a / 2)\n",
        "\n",
        "print(b)\n",
        "b.reverse()\n",
        "print(b)\n",
        "print(''.join(b))"
      ],
      "execution_count": 13,
      "outputs": [
        {
          "output_type": "stream",
          "name": "stdout",
          "text": [
            "10진수를 입력하세요: 12\n",
            "12\n",
            "6\n",
            "3\n",
            "1\n",
            "['0', '0', '1', '1']\n",
            "['1', '1', '0', '0']\n",
            "1100\n"
          ]
        }
      ]
    },
    {
      "cell_type": "markdown",
      "metadata": {
        "id": "7H61mW9pYWgh"
      },
      "source": [
        "# 44. 각 자리수의 합"
      ]
    },
    {
      "cell_type": "markdown",
      "metadata": {
        "id": "Wqwh7ErwYYUa"
      },
      "source": [
        "사용자가 입력한 양의 정수의 각 자리수의 합을 구하는 프로그램을 만들어주세요\n",
        "\n",
        "예를들어\n",
        "\n",
        "18234 = 1+8+2+3+4 이고 정답은 18 입니다.\n",
        "\n",
        "3849 = 3+8+4+9 이고 정답은 24입니다."
      ]
    },
    {
      "cell_type": "code",
      "metadata": {
        "colab": {
          "base_uri": "https://localhost:8080/"
        },
        "id": "cHcVvKUkYOX_",
        "outputId": "88289f68-9410-47c9-e05c-dbd592ec3ad4"
      },
      "source": [
        "n = list(map(int,input(\"숫자를 입력하세요: \")))\n",
        "result = 0\n",
        "for i in n:\n",
        "\tresult += i\n",
        "\t\n",
        "print(result)"
      ],
      "execution_count": 14,
      "outputs": [
        {
          "output_type": "stream",
          "name": "stdout",
          "text": [
            "숫자를 입력하세요:18234\n",
            "18\n"
          ]
        }
      ]
    },
    {
      "cell_type": "markdown",
      "metadata": {
        "id": "S-RFOU7HY9Di"
      },
      "source": [
        "* map()\n",
        " - 리스트의 요소를 지정된 함수로 처리해주는 함수\n",
        " - 원본 리스트를 변경하지 않고 새 리스트를 생성"
      ]
    },
    {
      "cell_type": "markdown",
      "metadata": {
        "id": "zVzXXx0lZWDk"
      },
      "source": [
        "# 45. time함수 사용하기"
      ]
    },
    {
      "cell_type": "markdown",
      "metadata": {
        "id": "YLZsVLdNZbqv"
      },
      "source": [
        "python의 모듈 중 하나인 time 모듈은 1970년 1월 1일 0시 0분 0초 이후로부터 지금까지 흐른 시간을 초단위로 반환합니다\n",
        "\n",
        "이를 이용하여 현재 연도(2021)를 출력해보세요"
      ]
    },
    {
      "cell_type": "code",
      "metadata": {
        "colab": {
          "base_uri": "https://localhost:8080/"
        },
        "id": "EaoAz4yNY245",
        "outputId": "82f6ac08-8ec0-4526-d648-c3b9e90a233f"
      },
      "source": [
        "import time\n",
        "t = time.time()\n",
        "t = int(t//(3600*24*365))+1970\n",
        "print(t)"
      ],
      "execution_count": 19,
      "outputs": [
        {
          "output_type": "stream",
          "name": "stdout",
          "text": [
            "2021\n"
          ]
        }
      ]
    },
    {
      "cell_type": "markdown",
      "metadata": {
        "id": "vaON1J4WaIdX"
      },
      "source": [
        "# 46. str 자료형의 응용"
      ]
    },
    {
      "cell_type": "markdown",
      "metadata": {
        "id": "mgetfr5GaL16"
      },
      "source": [
        "1부터 100까지의(100을 포함) 모든 숫자를 일렬로 놓고 모든 자릿수의 총 합을 구하세요. \n",
        "\n",
        "예를 들어 10부터 15까지의 모든 숫자를 일렬로 놓으면 101112131415이고 각 자리의 숫자를 더하면 25입니다."
      ]
    },
    {
      "cell_type": "code",
      "metadata": {
        "colab": {
          "base_uri": "https://localhost:8080/"
        },
        "id": "8vxHis4jZwTZ",
        "outputId": "fc6a5d21-01fd-4ded-d238-0dfc033d55a8"
      },
      "source": [
        "s = ''\n",
        "for i in range(101):\n",
        "    s += str(i)\n",
        "print(s)\n",
        "result = 0\n",
        "for i in s:\n",
        "    result += int(i)\n",
        "print(result)"
      ],
      "execution_count": 21,
      "outputs": [
        {
          "output_type": "stream",
          "name": "stdout",
          "text": [
            "0123456789101112131415161718192021222324252627282930313233343536373839404142434445464748495051525354555657585960616263646566676869707172737475767778798081828384858687888990919293949596979899100\n",
            "901\n"
          ]
        }
      ]
    },
    {
      "cell_type": "markdown",
      "metadata": {
        "id": "MPFLoTJZahLu"
      },
      "source": [
        "# 47. set 자료형의 응용"
      ]
    },
    {
      "cell_type": "markdown",
      "metadata": {
        "id": "3OqXvX3Cal7P"
      },
      "source": [
        "바울랩에서는 3월 29일 제주대학교에서 '제주 빅데이터 사회혁신 해커톤' 행사를 주최하게 되었습니다. 이에 구글 설문지를 배포하였으나 제주대학생들이 중복해서 n개씩 설문지를 제출하였습니다. 중복된 데이터들을 삭제하여 실제 접수 명단이 몇 명인지 알고 싶습니다.\n",
        "\n",
        "아래 주어진 데이터들로부터 중복을 제거하여 실제 접수 인원을 출력해 주세요."
      ]
    },
    {
      "cell_type": "code",
      "metadata": {
        "colab": {
          "base_uri": "https://localhost:8080/"
        },
        "id": "0AT_K1LHapem",
        "outputId": "169a6f78-0d09-4582-dd4f-3b45a2ee46e5"
      },
      "source": [
        "people = [\n",
        "         ('이호준', '01050004429'),\n",
        "         ('이호상', '01051442904'),\n",
        "         ('이준호', '01050003429'),\n",
        "         ('이호준', '01050004429'),\n",
        "         ('이준', '01050412904'),\n",
        "         ('이호', '0105000443904'),\n",
        "         ('이호준', '01050004429'),\n",
        "         ]\n",
        "\n",
        "print(len(set(people)))"
      ],
      "execution_count": 22,
      "outputs": [
        {
          "output_type": "stream",
          "name": "stdout",
          "text": [
            "5\n"
          ]
        }
      ]
    },
    {
      "cell_type": "markdown",
      "metadata": {
        "id": "zQQEJL7mascq"
      },
      "source": [
        "# 48. 대소문자 바꿔서 출력하기"
      ]
    },
    {
      "cell_type": "markdown",
      "metadata": {
        "id": "MvxRpYxxawV9"
      },
      "source": [
        "문자열이 주어지면 대문자와 소문자를 바꿔서 출력하는 프로그램을 작성하세요."
      ]
    },
    {
      "cell_type": "code",
      "metadata": {
        "colab": {
          "base_uri": "https://localhost:8080/"
        },
        "id": "6nWA1IAVap2o",
        "outputId": "ef7ab56f-9c77-44f4-c88f-dcb498e418fb"
      },
      "source": [
        "a = input(\"문자를 입력하세요:\")\n",
        "b = []\n",
        "\n",
        "for i in a:\n",
        "\tif i.islower():\n",
        "\t\tb.append(i.upper())\n",
        "\telse:\n",
        "\t\tb.append(i.lower())\n",
        "\t\n",
        "for i in b:\n",
        "\tprint(i, end='')"
      ],
      "execution_count": 23,
      "outputs": [
        {
          "output_type": "stream",
          "name": "stdout",
          "text": [
            "AAABBBcccddd\n",
            "aaabbbCCCDDD"
          ]
        }
      ]
    },
    {
      "cell_type": "markdown",
      "metadata": {
        "id": "O9QGCnvRbJV1"
      },
      "source": [
        "# 49. 최댓값 구하기"
      ]
    },
    {
      "cell_type": "markdown",
      "metadata": {
        "id": "-DQJReNQbSJZ"
      },
      "source": [
        "순서가 없는 10개의 숫자가 공백으로 구분되어 주어진다. 주어진 숫자들 중 최댓값을 반환하라."
      ]
    },
    {
      "cell_type": "code",
      "metadata": {
        "colab": {
          "base_uri": "https://localhost:8080/"
        },
        "id": "dcKqdQhsa7_s",
        "outputId": "dd2c8a85-3120-4868-d19d-ba2f1a62db19"
      },
      "source": [
        "data = list(map(int, input(\"띄어쓰기를 사용해서 숫자를 입력하세요: \").split()))\n",
        "print(sorted(data)[-1])"
      ],
      "execution_count": 24,
      "outputs": [
        {
          "output_type": "stream",
          "name": "stdout",
          "text": [
            "10 9 8 7 6 5 4 3 2 1 \n",
            "10\n"
          ]
        }
      ]
    },
    {
      "cell_type": "markdown",
      "metadata": {
        "id": "EtO5X9n1bccR"
      },
      "source": [
        "# 50. 버블정렬 구현하기"
      ]
    },
    {
      "cell_type": "markdown",
      "metadata": {
        "id": "lDfrxsQbbhiv"
      },
      "source": [
        "버블정렬은 두 인접한 원소를 검사하여 정렬하는 방법을 말합니다. 시간 복잡도는 느리지만 코드가 단순하기 때문에 자주 사용됩니다."
      ]
    },
    {
      "cell_type": "code",
      "metadata": {
        "colab": {
          "base_uri": "https://localhost:8080/"
        },
        "id": "ydBbDKHmbV1E",
        "outputId": "68d36861-86f8-4b11-c88e-be0cc29bc818"
      },
      "source": [
        "def bubble(n, data):\n",
        "\tfor i in range(n-1):\n",
        "\t\tfor j in range(n-i-1):\n",
        "\t\t\tif data[j] > data[j+1]:\n",
        "\t\t\t\tdata[j], data[j+1] = data[j+1], data[j]\n",
        "\tfor i in range(n):\n",
        "\t\tprint(data[i], end = \" \")\n",
        "\n",
        "n = int(input(\"숫자 개수를 입력하세요: \"))\n",
        "data = list(map(int, input(\"띄어쓰기를 사용해서 숫자를 입력하세요:\" ).split()))\n",
        "\n",
        "bubble(n, data)"
      ],
      "execution_count": 32,
      "outputs": [
        {
          "output_type": "stream",
          "name": "stdout",
          "text": [
            "숫자 개수를 입력하세요: 5\n",
            "띄어쓰기를 사용해서 숫자를 입력하세요:4 2 3 8 5\n",
            "2 3 4 5 8 "
          ]
        }
      ]
    }
  ]
}